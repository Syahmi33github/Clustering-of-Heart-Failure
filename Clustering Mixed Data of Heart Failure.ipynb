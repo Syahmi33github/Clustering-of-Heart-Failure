{
 "cells": [
  {
   "cell_type": "code",
   "execution_count": 27,
   "id": "0c3bb0a5",
   "metadata": {},
   "outputs": [
    {
     "name": "stdout",
     "output_type": "stream",
     "text": [
      "Size of heart failure clinical dataframe is : (299, 13)\n"
     ]
    },
    {
     "data": {
      "text/html": [
       "<div>\n",
       "<style scoped>\n",
       "    .dataframe tbody tr th:only-of-type {\n",
       "        vertical-align: middle;\n",
       "    }\n",
       "\n",
       "    .dataframe tbody tr th {\n",
       "        vertical-align: top;\n",
       "    }\n",
       "\n",
       "    .dataframe thead th {\n",
       "        text-align: right;\n",
       "    }\n",
       "</style>\n",
       "<table border=\"1\" class=\"dataframe\">\n",
       "  <thead>\n",
       "    <tr style=\"text-align: right;\">\n",
       "      <th></th>\n",
       "      <th>age</th>\n",
       "      <th>anaemia</th>\n",
       "      <th>creatinine_phosphokinase</th>\n",
       "      <th>diabetes</th>\n",
       "      <th>ejection_fraction</th>\n",
       "      <th>high_blood_pressure</th>\n",
       "      <th>platelets</th>\n",
       "      <th>serum_creatinine</th>\n",
       "      <th>serum_sodium</th>\n",
       "      <th>sex</th>\n",
       "      <th>smoking</th>\n",
       "      <th>time</th>\n",
       "      <th>DEATH_EVENT</th>\n",
       "    </tr>\n",
       "  </thead>\n",
       "  <tbody>\n",
       "    <tr>\n",
       "      <th>0</th>\n",
       "      <td>75.0</td>\n",
       "      <td>0</td>\n",
       "      <td>582</td>\n",
       "      <td>0</td>\n",
       "      <td>20</td>\n",
       "      <td>1</td>\n",
       "      <td>265000.00</td>\n",
       "      <td>1.9</td>\n",
       "      <td>130</td>\n",
       "      <td>1</td>\n",
       "      <td>0</td>\n",
       "      <td>4</td>\n",
       "      <td>1</td>\n",
       "    </tr>\n",
       "    <tr>\n",
       "      <th>1</th>\n",
       "      <td>55.0</td>\n",
       "      <td>0</td>\n",
       "      <td>7861</td>\n",
       "      <td>0</td>\n",
       "      <td>38</td>\n",
       "      <td>0</td>\n",
       "      <td>263358.03</td>\n",
       "      <td>1.1</td>\n",
       "      <td>136</td>\n",
       "      <td>1</td>\n",
       "      <td>0</td>\n",
       "      <td>6</td>\n",
       "      <td>1</td>\n",
       "    </tr>\n",
       "    <tr>\n",
       "      <th>2</th>\n",
       "      <td>65.0</td>\n",
       "      <td>0</td>\n",
       "      <td>146</td>\n",
       "      <td>0</td>\n",
       "      <td>20</td>\n",
       "      <td>0</td>\n",
       "      <td>162000.00</td>\n",
       "      <td>1.3</td>\n",
       "      <td>129</td>\n",
       "      <td>1</td>\n",
       "      <td>1</td>\n",
       "      <td>7</td>\n",
       "      <td>1</td>\n",
       "    </tr>\n",
       "    <tr>\n",
       "      <th>3</th>\n",
       "      <td>50.0</td>\n",
       "      <td>1</td>\n",
       "      <td>111</td>\n",
       "      <td>0</td>\n",
       "      <td>20</td>\n",
       "      <td>0</td>\n",
       "      <td>210000.00</td>\n",
       "      <td>1.9</td>\n",
       "      <td>137</td>\n",
       "      <td>1</td>\n",
       "      <td>0</td>\n",
       "      <td>7</td>\n",
       "      <td>1</td>\n",
       "    </tr>\n",
       "    <tr>\n",
       "      <th>4</th>\n",
       "      <td>65.0</td>\n",
       "      <td>1</td>\n",
       "      <td>160</td>\n",
       "      <td>1</td>\n",
       "      <td>20</td>\n",
       "      <td>0</td>\n",
       "      <td>327000.00</td>\n",
       "      <td>2.7</td>\n",
       "      <td>116</td>\n",
       "      <td>0</td>\n",
       "      <td>0</td>\n",
       "      <td>8</td>\n",
       "      <td>1</td>\n",
       "    </tr>\n",
       "  </tbody>\n",
       "</table>\n",
       "</div>"
      ],
      "text/plain": [
       "    age  anaemia  creatinine_phosphokinase  diabetes  ejection_fraction  \\\n",
       "0  75.0        0                       582         0                 20   \n",
       "1  55.0        0                      7861         0                 38   \n",
       "2  65.0        0                       146         0                 20   \n",
       "3  50.0        1                       111         0                 20   \n",
       "4  65.0        1                       160         1                 20   \n",
       "\n",
       "   high_blood_pressure  platelets  serum_creatinine  serum_sodium  sex  \\\n",
       "0                    1  265000.00               1.9           130    1   \n",
       "1                    0  263358.03               1.1           136    1   \n",
       "2                    0  162000.00               1.3           129    1   \n",
       "3                    0  210000.00               1.9           137    1   \n",
       "4                    0  327000.00               2.7           116    0   \n",
       "\n",
       "   smoking  time  DEATH_EVENT  \n",
       "0        0     4            1  \n",
       "1        0     6            1  \n",
       "2        1     7            1  \n",
       "3        0     7            1  \n",
       "4        0     8            1  "
      ]
     },
     "execution_count": 27,
     "metadata": {},
     "output_type": "execute_result"
    }
   ],
   "source": [
    "import warnings\n",
    "import pandas as pd\n",
    "import numpy as np\n",
    "\n",
    "warnings. filterwarnings(\"ignore\")\n",
    "\n",
    "df = pd.read_csv(\"heart_failure_clinical_records_dataset.csv\")\n",
    "print('Size of heart failure clinical dataframe is :', df.shape)\n",
    "\n",
    "df.head()"
   ]
  },
  {
   "cell_type": "code",
   "execution_count": 28,
   "id": "536d7fe5",
   "metadata": {},
   "outputs": [
    {
     "data": {
      "text/plain": [
       "age                         float64\n",
       "anaemia                       int64\n",
       "creatinine_phosphokinase      int64\n",
       "diabetes                      int64\n",
       "ejection_fraction             int64\n",
       "high_blood_pressure           int64\n",
       "platelets                   float64\n",
       "serum_creatinine            float64\n",
       "serum_sodium                  int64\n",
       "sex                           int64\n",
       "smoking                       int64\n",
       "time                          int64\n",
       "DEATH_EVENT                   int64\n",
       "dtype: object"
      ]
     },
     "execution_count": 28,
     "metadata": {},
     "output_type": "execute_result"
    }
   ],
   "source": [
    "df.dtypes"
   ]
  },
  {
   "cell_type": "code",
   "execution_count": 29,
   "id": "2d22796c",
   "metadata": {},
   "outputs": [
    {
     "name": "stdout",
     "output_type": "stream",
     "text": [
      "<class 'pandas.core.frame.DataFrame'>\n",
      "RangeIndex: 299 entries, 0 to 298\n",
      "Data columns (total 13 columns):\n",
      " #   Column                    Non-Null Count  Dtype  \n",
      "---  ------                    --------------  -----  \n",
      " 0   age                       299 non-null    float64\n",
      " 1   anaemia                   299 non-null    int64  \n",
      " 2   creatinine_phosphokinase  299 non-null    int64  \n",
      " 3   diabetes                  299 non-null    int64  \n",
      " 4   ejection_fraction         299 non-null    int64  \n",
      " 5   high_blood_pressure       299 non-null    int64  \n",
      " 6   platelets                 299 non-null    float64\n",
      " 7   serum_creatinine          299 non-null    float64\n",
      " 8   serum_sodium              299 non-null    int64  \n",
      " 9   sex                       299 non-null    int64  \n",
      " 10  smoking                   299 non-null    int64  \n",
      " 11  time                      299 non-null    int64  \n",
      " 12  DEATH_EVENT               299 non-null    int64  \n",
      "dtypes: float64(3), int64(10)\n",
      "memory usage: 30.4 KB\n"
     ]
    }
   ],
   "source": [
    "df.info()"
   ]
  },
  {
   "cell_type": "code",
   "execution_count": 30,
   "id": "69175903",
   "metadata": {},
   "outputs": [],
   "source": [
    "# select columns to cluster\n",
    "\n",
    "cluster_columns = ['age', 'sex', 'serum_sodium', 'platelets', 'smoking']\n",
    "\n",
    "df = df[cluster_columns]"
   ]
  },
  {
   "cell_type": "code",
   "execution_count": 31,
   "id": "6a0c6be0",
   "metadata": {
    "scrolled": true
   },
   "outputs": [
    {
     "data": {
      "text/html": [
       "<div>\n",
       "<style scoped>\n",
       "    .dataframe tbody tr th:only-of-type {\n",
       "        vertical-align: middle;\n",
       "    }\n",
       "\n",
       "    .dataframe tbody tr th {\n",
       "        vertical-align: top;\n",
       "    }\n",
       "\n",
       "    .dataframe thead th {\n",
       "        text-align: right;\n",
       "    }\n",
       "</style>\n",
       "<table border=\"1\" class=\"dataframe\">\n",
       "  <thead>\n",
       "    <tr style=\"text-align: right;\">\n",
       "      <th></th>\n",
       "      <th>age</th>\n",
       "      <th>sex</th>\n",
       "      <th>serum_sodium</th>\n",
       "      <th>platelets</th>\n",
       "      <th>smoking</th>\n",
       "    </tr>\n",
       "  </thead>\n",
       "  <tbody>\n",
       "    <tr>\n",
       "      <th>0</th>\n",
       "      <td>75.0</td>\n",
       "      <td>1</td>\n",
       "      <td>130</td>\n",
       "      <td>265000.00</td>\n",
       "      <td>0</td>\n",
       "    </tr>\n",
       "    <tr>\n",
       "      <th>1</th>\n",
       "      <td>55.0</td>\n",
       "      <td>1</td>\n",
       "      <td>136</td>\n",
       "      <td>263358.03</td>\n",
       "      <td>0</td>\n",
       "    </tr>\n",
       "    <tr>\n",
       "      <th>2</th>\n",
       "      <td>65.0</td>\n",
       "      <td>1</td>\n",
       "      <td>129</td>\n",
       "      <td>162000.00</td>\n",
       "      <td>1</td>\n",
       "    </tr>\n",
       "    <tr>\n",
       "      <th>3</th>\n",
       "      <td>50.0</td>\n",
       "      <td>1</td>\n",
       "      <td>137</td>\n",
       "      <td>210000.00</td>\n",
       "      <td>0</td>\n",
       "    </tr>\n",
       "    <tr>\n",
       "      <th>4</th>\n",
       "      <td>65.0</td>\n",
       "      <td>0</td>\n",
       "      <td>116</td>\n",
       "      <td>327000.00</td>\n",
       "      <td>0</td>\n",
       "    </tr>\n",
       "  </tbody>\n",
       "</table>\n",
       "</div>"
      ],
      "text/plain": [
       "    age  sex  serum_sodium  platelets  smoking\n",
       "0  75.0    1           130  265000.00        0\n",
       "1  55.0    1           136  263358.03        0\n",
       "2  65.0    1           129  162000.00        1\n",
       "3  50.0    1           137  210000.00        0\n",
       "4  65.0    0           116  327000.00        0"
      ]
     },
     "execution_count": 31,
     "metadata": {},
     "output_type": "execute_result"
    }
   ],
   "source": [
    "df.head()"
   ]
  },
  {
   "cell_type": "code",
   "execution_count": 32,
   "id": "a28e5577",
   "metadata": {},
   "outputs": [],
   "source": [
    "from sklearn.preprocessing import StandardScaler\n",
    "\n",
    "# define numerical and categorical columns\n",
    "numerical_columns = ['age', 'serum_sodium', 'platelets']\n",
    "categorical_columns = ['sex', 'smoking']\n",
    "\n",
    "scaler = StandardScaler()\n",
    "\n",
    "# create a copy of our data to be scaled\n",
    "df_scale = df.copy()\n",
    "\n",
    "# standard scale numerical features\n",
    "for c in numerical_columns:\n",
    "    df_scale[c] = scaler.fit_transform(df[[c]])"
   ]
  },
  {
   "cell_type": "code",
   "execution_count": 33,
   "id": "6fd377e2",
   "metadata": {},
   "outputs": [
    {
     "data": {
      "text/html": [
       "<div>\n",
       "<style scoped>\n",
       "    .dataframe tbody tr th:only-of-type {\n",
       "        vertical-align: middle;\n",
       "    }\n",
       "\n",
       "    .dataframe tbody tr th {\n",
       "        vertical-align: top;\n",
       "    }\n",
       "\n",
       "    .dataframe thead th {\n",
       "        text-align: right;\n",
       "    }\n",
       "</style>\n",
       "<table border=\"1\" class=\"dataframe\">\n",
       "  <thead>\n",
       "    <tr style=\"text-align: right;\">\n",
       "      <th></th>\n",
       "      <th>age</th>\n",
       "      <th>sex</th>\n",
       "      <th>serum_sodium</th>\n",
       "      <th>platelets</th>\n",
       "      <th>smoking</th>\n",
       "    </tr>\n",
       "  </thead>\n",
       "  <tbody>\n",
       "    <tr>\n",
       "      <th>0</th>\n",
       "      <td>1.192945</td>\n",
       "      <td>1</td>\n",
       "      <td>-1.504036</td>\n",
       "      <td>1.681648e-02</td>\n",
       "      <td>0</td>\n",
       "    </tr>\n",
       "    <tr>\n",
       "      <th>1</th>\n",
       "      <td>-0.491279</td>\n",
       "      <td>1</td>\n",
       "      <td>-0.141976</td>\n",
       "      <td>7.535660e-09</td>\n",
       "      <td>0</td>\n",
       "    </tr>\n",
       "    <tr>\n",
       "      <th>2</th>\n",
       "      <td>0.350833</td>\n",
       "      <td>1</td>\n",
       "      <td>-1.731046</td>\n",
       "      <td>-1.038073e+00</td>\n",
       "      <td>1</td>\n",
       "    </tr>\n",
       "    <tr>\n",
       "      <th>3</th>\n",
       "      <td>-0.912335</td>\n",
       "      <td>1</td>\n",
       "      <td>0.085034</td>\n",
       "      <td>-5.464741e-01</td>\n",
       "      <td>0</td>\n",
       "    </tr>\n",
       "    <tr>\n",
       "      <th>4</th>\n",
       "      <td>0.350833</td>\n",
       "      <td>0</td>\n",
       "      <td>-4.682176</td>\n",
       "      <td>6.517986e-01</td>\n",
       "      <td>0</td>\n",
       "    </tr>\n",
       "  </tbody>\n",
       "</table>\n",
       "</div>"
      ],
      "text/plain": [
       "        age  sex  serum_sodium     platelets  smoking\n",
       "0  1.192945    1     -1.504036  1.681648e-02        0\n",
       "1 -0.491279    1     -0.141976  7.535660e-09        0\n",
       "2  0.350833    1     -1.731046 -1.038073e+00        1\n",
       "3 -0.912335    1      0.085034 -5.464741e-01        0\n",
       "4  0.350833    0     -4.682176  6.517986e-01        0"
      ]
     },
     "execution_count": 33,
     "metadata": {},
     "output_type": "execute_result"
    }
   ],
   "source": [
    "df_scale.head()"
   ]
  },
  {
   "cell_type": "code",
   "execution_count": 34,
   "id": "5a1b8249",
   "metadata": {},
   "outputs": [
    {
     "data": {
      "text/plain": [
       "(299, 5)"
      ]
     },
     "execution_count": 34,
     "metadata": {},
     "output_type": "execute_result"
    }
   ],
   "source": [
    "df_scale.shape"
   ]
  },
  {
   "cell_type": "code",
   "execution_count": 35,
   "id": "3e4e7970",
   "metadata": {},
   "outputs": [
    {
     "data": {
      "text/plain": [
       "(293, 5)"
      ]
     },
     "execution_count": 35,
     "metadata": {},
     "output_type": "execute_result"
    }
   ],
   "source": [
    "df_out = df_scale[(df_scale['age'].abs()<=3) & (df_scale['platelets'].abs()<=3) & (df_scale['serum_sodium'].abs()<=3)]\n",
    "df_out.shape"
   ]
  },
  {
   "cell_type": "markdown",
   "id": "5f50519f",
   "metadata": {},
   "source": [
    "## Finding Optimal Number of Clusters"
   ]
  },
  {
   "cell_type": "code",
   "execution_count": 36,
   "id": "486c63c6",
   "metadata": {},
   "outputs": [
    {
     "data": {
      "text/plain": [
       "[1, 4]"
      ]
     },
     "execution_count": 36,
     "metadata": {},
     "output_type": "execute_result"
    }
   ],
   "source": [
    "from kmodes.kprototypes import KPrototypes\n",
    "\n",
    "categorical_indexes = []\n",
    "\n",
    "for c in categorical_columns:\n",
    "    categorical_indexes.append(df.columns.get_loc(c))\n",
    "\n",
    "categorical_indexes"
   ]
  },
  {
   "cell_type": "markdown",
   "id": "e4a958c3",
   "metadata": {},
   "source": [
    "### The Elbow Method"
   ]
  },
  {
   "cell_type": "code",
   "execution_count": 37,
   "id": "3fa0edad",
   "metadata": {},
   "outputs": [
    {
     "data": {
      "text/plain": [
       "Text(0, 0.5, 'Cost')"
      ]
     },
     "execution_count": 37,
     "metadata": {},
     "output_type": "execute_result"
    },
    {
     "data": {
      "image/png": "[encoded data removed]",
      "text/plain": [
       "<Figure size 432x288 with 1 Axes>"
      ]
     },
     "metadata": {
      "needs_background": "light"
     },
     "output_type": "display_data"
    }
   ],
   "source": [
    "import seaborn as sns\n",
    "\n",
    "num_clusters = list(range(2, 11))\n",
    "\n",
    "cost_values = []\n",
    "\n",
    "# calculate cost values for each number of clusters (2 to 10)\n",
    "for k in num_clusters:\n",
    "    kproto = KPrototypes(n_clusters=k, init='Huang', random_state=42)\n",
    "    kproto.fit_predict(df_scale, categorical= categorical_indexes)\n",
    "    cost_values.append(kproto.cost_)\n",
    "\n",
    "# plot cost against number of clusters\n",
    "ax = sns.lineplot(x=num_clusters, y=cost_values, marker=\"o\")\n",
    "ax.set_title('Elbow curve', fontsize=14)\n",
    "ax.set_xlabel('No of clusters', fontsize=11)\n",
    "ax.set_ylabel('Cost', fontsize=11)"
   ]
  },
  {
   "cell_type": "markdown",
   "id": "251b8682",
   "metadata": {},
   "source": [
    "### The Average Silhouette Method"
   ]
  },
  {
   "cell_type": "code",
   "execution_count": 38,
   "id": "e0114346",
   "metadata": {
    "scrolled": true
   },
   "outputs": [
    {
     "data": {
      "text/plain": [
       "Text(0, 0.5, 'score')"
      ]
     },
     "execution_count": 38,
     "metadata": {},
     "output_type": "execute_result"
    },
    {
     "data": {
      "image/png": "[encoded data removed]",
      "text/plain": [
       "<Figure size 432x288 with 1 Axes>"
      ]
     },
     "metadata": {
      "needs_background": "light"
     },
     "output_type": "display_data"
    }
   ],
   "source": [
    "from sklearn.metrics import silhouette_score\n",
    "\n",
    "silhouette_avg = []\n",
    "\n",
    "# calculate average silhouette score for each number of cluster (2 to 10)\n",
    "for k in num_clusters:\n",
    "    kproto = KPrototypes(n_clusters=k, init='Huang', random_state=42)\n",
    "    kproto.fit_predict(df_scale, categorical= categorical_indexes)\n",
    "    cluster_labels = kproto.labels_\n",
    "    silhouette_avg.append(silhouette_score(df_scale, cluster_labels))\n",
    "\n",
    "# plot average silhouette score against number of clusters\n",
    "ax = sns.lineplot(x=num_clusters, y=silhouette_avg, marker=\"o\")\n",
    "ax.set_title('Average Silhouette', fontsize=14)\n",
    "ax.set_xlabel('No of clusters', fontsize=11)\n",
    "ax.set_ylabel('score', fontsize=11)"
   ]
  },
  {
   "cell_type": "code",
   "execution_count": 39,
   "id": "1c128c8b",
   "metadata": {},
   "outputs": [
    {
     "data": {
      "text/plain": [
       "Text(0, 0.5, 'score')"
      ]
     },
     "execution_count": 39,
     "metadata": {},
     "output_type": "execute_result"
    },
    {
     "data": {
      "image/png": "[encoded data removed]",
      "text/plain": [
       "<Figure size 432x288 with 1 Axes>"
      ]
     },
     "metadata": {
      "needs_background": "light"
     },
     "output_type": "display_data"
    }
   ],
   "source": [
    "#### The Average Silhouette Method\n",
    "\n",
    "from sklearn.metrics import silhouette_score\n",
    "\n",
    "silhouette_avg = []\n",
    "\n",
    "# calculate average silhouette score for each number of cluster (2 to 10)\n",
    "for k in num_clusters:\n",
    "    kproto = KPrototypes(n_clusters=k, init='Huang', random_state=42)\n",
    "    kproto.fit_predict(df_scale, categorical= categorical_indexes)\n",
    "    cluster_labels = kproto.labels_\n",
    "    silhouette_avg.append(silhouette_score(df_scale, cluster_labels))\n",
    "\n",
    "# plot average silhouette score against number of clusters\n",
    "ax = sns.lineplot(x=num_clusters, y=silhouette_avg, marker=\"o\")\n",
    "ax.set_title('Average Silhouette', fontsize=14)\n",
    "ax.set_xlabel('No of clusters', fontsize=11)\n",
    "ax.set_ylabel('score', fontsize=11)"
   ]
  },
  {
   "cell_type": "markdown",
   "id": "b7282dc2",
   "metadata": {},
   "source": [
    "Dari dua plot di atas, menunjukkan bahwa **5** cluster tampaknya masuk akal untuk data tersebut. Kualitas cluster cukup buruk dengan skor siluet **rendah**."
   ]
  },
  {
   "cell_type": "markdown",
   "id": "b43d492b",
   "metadata": {},
   "source": [
    "### Clustering the Data"
   ]
  },
  {
   "cell_type": "code",
   "execution_count": 40,
   "id": "ae87c07b",
   "metadata": {},
   "outputs": [
    {
     "data": {
      "text/html": [
       "<div>\n",
       "<style scoped>\n",
       "    .dataframe tbody tr th:only-of-type {\n",
       "        vertical-align: middle;\n",
       "    }\n",
       "\n",
       "    .dataframe tbody tr th {\n",
       "        vertical-align: top;\n",
       "    }\n",
       "\n",
       "    .dataframe thead th {\n",
       "        text-align: right;\n",
       "    }\n",
       "</style>\n",
       "<table border=\"1\" class=\"dataframe\">\n",
       "  <thead>\n",
       "    <tr style=\"text-align: right;\">\n",
       "      <th></th>\n",
       "      <th>age</th>\n",
       "      <th>sex</th>\n",
       "      <th>serum_sodium</th>\n",
       "      <th>platelets</th>\n",
       "      <th>smoking</th>\n",
       "      <th>cluster</th>\n",
       "    </tr>\n",
       "  </thead>\n",
       "  <tbody>\n",
       "    <tr>\n",
       "      <th>0</th>\n",
       "      <td>75.0</td>\n",
       "      <td>1</td>\n",
       "      <td>130</td>\n",
       "      <td>265000.00</td>\n",
       "      <td>0</td>\n",
       "      <td>0</td>\n",
       "    </tr>\n",
       "    <tr>\n",
       "      <th>1</th>\n",
       "      <td>55.0</td>\n",
       "      <td>1</td>\n",
       "      <td>136</td>\n",
       "      <td>263358.03</td>\n",
       "      <td>0</td>\n",
       "      <td>3</td>\n",
       "    </tr>\n",
       "    <tr>\n",
       "      <th>2</th>\n",
       "      <td>65.0</td>\n",
       "      <td>1</td>\n",
       "      <td>129</td>\n",
       "      <td>162000.00</td>\n",
       "      <td>1</td>\n",
       "      <td>1</td>\n",
       "    </tr>\n",
       "    <tr>\n",
       "      <th>3</th>\n",
       "      <td>50.0</td>\n",
       "      <td>1</td>\n",
       "      <td>137</td>\n",
       "      <td>210000.00</td>\n",
       "      <td>0</td>\n",
       "      <td>3</td>\n",
       "    </tr>\n",
       "    <tr>\n",
       "      <th>4</th>\n",
       "      <td>65.0</td>\n",
       "      <td>0</td>\n",
       "      <td>116</td>\n",
       "      <td>327000.00</td>\n",
       "      <td>0</td>\n",
       "      <td>1</td>\n",
       "    </tr>\n",
       "  </tbody>\n",
       "</table>\n",
       "</div>"
      ],
      "text/plain": [
       "    age  sex  serum_sodium  platelets  smoking  cluster\n",
       "0  75.0    1           130  265000.00        0        0\n",
       "1  55.0    1           136  263358.03        0        3\n",
       "2  65.0    1           129  162000.00        1        1\n",
       "3  50.0    1           137  210000.00        0        3\n",
       "4  65.0    0           116  327000.00        0        1"
      ]
     },
     "execution_count": 40,
     "metadata": {},
     "output_type": "execute_result"
    }
   ],
   "source": [
    "# we set the number of clusters to 5\n",
    "kproto = KPrototypes(n_clusters= 5, init='Huang', n_init = 25, random_state=42)\n",
    "kproto.fit_predict(df_scale, categorical= categorical_indexes)\n",
    "\n",
    "# store cluster labels\n",
    "cluster_labels = kproto.labels_\n",
    "\n",
    "# add clusters to dataframe\n",
    "df[\"cluster\"] = cluster_labels\n",
    "\n",
    "# check if clusters have been added to the dataframe\n",
    "df.head()"
   ]
  },
  {
   "cell_type": "markdown",
   "id": "19e3f27e",
   "metadata": {},
   "source": [
    "### Cluster Exploration"
   ]
  },
  {
   "cell_type": "code",
   "execution_count": 41,
   "id": "f878452d",
   "metadata": {},
   "outputs": [],
   "source": [
    "from sklearn.decomposition import PCA\n",
    "\n",
    "pca = PCA(n_components=3)\n",
    "pca_df = pca.fit_transform(df_scale)"
   ]
  },
  {
   "cell_type": "code",
   "execution_count": 42,
   "id": "f1569ced",
   "metadata": {},
   "outputs": [
    {
     "data": {
      "application/vnd.plotly.v1+json": {
       "config": {
        "plotlyServerURL": "https://plot.ly"
       },
       "data": [
        {
         "marker": {
          "color": [
           0,
           3,
           1,
           3,
           1,
           0,
           0,
           4,
           2,
           0,
           0,
           2,
           3,
           3,
           4,
           0,
           0,
           1,
           2,
           1,
           2,
           0,
           2,
           4,
           0,
           2,
           0,
           0,
           3,
           0,
           0,
           0,
           1,
           3,
           2,
           0,
           0,
           2,
           3,
           2,
           0,
           3,
           2,
           0,
           2,
           3,
           1,
           4,
           0,
           4,
           0,
           4,
           2,
           0,
           1,
           0,
           0,
           3,
           3,
           0,
           4,
           1,
           3,
           4,
           3,
           1,
           3,
           2,
           2,
           4,
           4,
           3,
           0,
           0,
           0,
           3,
           2,
           3,
           0,
           2,
           0,
           0,
           1,
           0,
           2,
           4,
           3,
           2,
           3,
           2,
           0,
           0,
           3,
           3,
           2,
           2,
           0,
           0,
           2,
           2,
           2,
           0,
           2,
           3,
           2,
           4,
           3,
           3,
           0,
           4,
           0,
           3,
           3,
           0,
           1,
           3,
           3,
           4,
           2,
           0,
           3,
           0,
           2,
           2,
           3,
           3,
           1,
           3,
           3,
           2,
           3,
           1,
           3,
           2,
           0,
           0,
           2,
           0,
           3,
           3,
           0,
           4,
           1,
           2,
           0,
           3,
           3,
           0,
           0,
           3,
           0,
           2,
           3,
           3,
           0,
           3,
           3,
           3,
           0,
           4,
           0,
           3,
           4,
           3,
           3,
           0,
           3,
           3,
           2,
           0,
           3,
           3,
           2,
           3,
           0,
           4,
           0,
           3,
           2,
           3,
           3,
           3,
           0,
           0,
           3,
           4,
           3,
           2,
           3,
           3,
           0,
           0,
           1,
           2,
           3,
           2,
           3,
           2,
           3,
           1,
           3,
           4,
           0,
           3,
           0,
           4,
           3,
           0,
           2,
           1,
           4,
           3,
           4,
           1,
           0,
           0,
           2,
           3,
           0,
           4,
           0,
           2,
           4,
           3,
           4,
           1,
           1,
           3,
           1,
           0,
           1,
           0,
           3,
           3,
           3,
           0,
           2,
           0,
           0,
           3,
           4,
           0,
           3,
           2,
           3,
           3,
           3,
           0,
           3,
           1,
           4,
           2,
           3,
           0,
           3,
           4,
           2,
           3,
           3,
           3,
           3,
           0,
           1,
           2,
           2,
           4,
           3,
           3,
           3,
           3,
           1,
           3,
           0,
           3,
           3,
           4,
           2,
           2,
           3,
           4,
           0,
           0,
           1,
           0,
           3,
           4,
           2,
           4,
           2,
           2,
           3,
           3,
           4,
           3,
           2,
           3,
           4,
           3,
           4
          ],
          "colorscale": [
           [
            0,
            "rgb(158,1,66)"
           ],
           [
            0.1,
            "rgb(213,62,79)"
           ],
           [
            0.2,
            "rgb(244,109,67)"
           ],
           [
            0.3,
            "rgb(253,174,97)"
           ],
           [
            0.4,
            "rgb(254,224,139)"
           ],
           [
            0.5,
            "rgb(255,255,191)"
           ],
           [
            0.6,
            "rgb(230,245,152)"
           ],
           [
            0.7,
            "rgb(171,221,164)"
           ],
           [
            0.8,
            "rgb(102,194,165)"
           ],
           [
            0.9,
            "rgb(50,136,189)"
           ],
           [
            1,
            "rgb(94,79,162)"
           ]
          ],
          "size": 5
         },
         "mode": "markers",
         "type": "scatter3d",
         "x": [
          -1.521498389369993,
          0.16180502940522773,
          -1.841367481654962,
          0.18643558235246419,
          -2.426617562427014,
          -2.3311922714005666,
          -1.4751810361748527,
          0.47366086405057845,
          0.034010764477948846,
          -0.5932435096391637,
          -0.749765262889159,
          0.2943645656764993,
          -0.048007052991662184,
          0.5993114465607762,
          1.7888371257559634,
          -2.425450254165256,
          -0.7891813498598556,
          -1.1597694214603147,
          -0.0994691746848564,
          -2.5014398536969464,
          -0.016848249695877057,
          -0.015421978122293836,
          0.24539503672280294,
          0.7778614624230034,
          -0.9427200981807999,
          -0.6589780562465558,
          -1.7582332500650077,
          -0.397048239437724,
          -0.9255350534558994,
          -1.9906489899900972,
          -1.8802161614268422,
          -1.1242783058636245,
          -0.2319068982352273,
          0.9611795040926384,
          -0.2467961054526349,
          -0.9590112689941184,
          -1.9311335690996891,
          0.5273767142727506,
          0.3237690226916214,
          1.192898976733416,
          -0.7860647493126954,
          -0.23335245206362523,
          -0.6265320709993708,
          -1.1586554910138864,
          0.34838016358005214,
          0.5495716593457389,
          -0.3872660367181384,
          1.364497030399084,
          -2.1421090768122277,
          1.4829754706718106,
          -0.781395309586582,
          1.6796961625996167,
          1.3020361253089634,
          -0.16597988419032286,
          -0.572002433673166,
          -0.9494106960509854,
          -0.5187589859175861,
          -0.10559127397899391,
          0.7815119927720023,
          -0.6761106020700026,
          1.8008260978863249,
          -0.48641350944586254,
          0.4905472424321649,
          2.5492075528267293,
          0.8179825955429862,
          -2.1417702178866405,
          0.5101020747948872,
          -0.031223417490632968,
          0.2042073328680869,
          1.0364970145136978,
          2.0109145603394794,
          -0.47229175888175373,
          -1.8587413816607665,
          -0.88314494284532,
          -0.7238416333929536,
          -0.050716291342352955,
          0.3984396472306881,
          1.1107353707934158,
          -1.2814993304301658,
          1.1302126471671279,
          -0.2689235459334435,
          -0.2591475116645786,
          -0.9385416624315207,
          -1.8962310819878874,
          0.9397476501515688,
          1.7566859922712925,
          -0.27350391756284015,
          0.47886450436803324,
          0.8768891441204504,
          0.5947533775555195,
          -0.6159975613663738,
          -0.24604982294078268,
          0.955069868440283,
          -0.5304086371390703,
          1.2717791021737859,
          0.39694406183765873,
          -0.5221886554810996,
          -0.5066399525988348,
          0.47436972478066386,
          0.12031001014621485,
          0.5712736564781571,
          -0.6221668016598096,
          -0.6589780562465558,
          1.0393759556944708,
          1.0538474170903958,
          1.9488927421217408,
          0.28950862453940246,
          0.6449488106941872,
          -0.341894002516576,
          5.065728951206603,
          -1.4646326021891967,
          -0.1918741116206874,
          0.3192314470832382,
          0.2238500805604973,
          -0.9617265317463681,
          -0.1377291332733176,
          0.0504087423214416,
          0.6442454439681748,
          -0.08368401353909825,
          -1.4453734321375542,
          -0.5329554082032969,
          -0.9056365489080898,
          0.30118714742924146,
          0.31907856921031424,
          -0.6165620943369472,
          0.48459967347277977,
          -0.8691705098277881,
          0.4531587316250798,
          -0.09213323425403551,
          1.1952416956322236,
          0.420716961552187,
          -0.7999541269836118,
          0.7722868379105543,
          1.1611246022764805,
          -1.1013100821599697,
          -0.6221668016598096,
          -0.6674405205695797,
          -0.9514002894530833,
          -0.3537675185557798,
          0.32263459884831885,
          -1.2404755545727906,
          1.6916111437529493,
          0.35042333722167085,
          0.39169040629266316,
          0.23919773530957708,
          1.0539810127085052,
          0.012599533737744584,
          -0.25312278730967736,
          -1.251952899525453,
          -0.28786280713501516,
          -0.8530886876922488,
          0.11066676094689486,
          -0.3685892211810073,
          0.5176803680867689,
          -0.4032750626816165,
          0.019216852183008917,
          0.4535089728543822,
          0.37924162514148296,
          -1.6463535267273037,
          0.9833792624251274,
          -0.734344267325362,
          0.44704922577671596,
          1.0786993511814391,
          0.06091004534696441,
          1.4505071828004852,
          -1.4876496299783333,
          -0.41041479882101356,
          -1.4904534888048449,
          0.07556090241424684,
          -0.5836851717372978,
          0.34204128887073,
          1.2017321756826151,
          0.0968266042920452,
          0.31495263236248844,
          -0.05739321442869771,
          0.6513478104029099,
          -1.6010651926811363,
          0.20329376981027023,
          0.9885119157977873,
          0.7768829368219503,
          1.0952294639321647,
          -0.2885036849525395,
          -0.28742765460825864,
          -1.2582085944377002,
          -0.12537599556099474,
          0.6888250033959421,
          -0.4906923241666124,
          1.6779906367415265,
          -0.41796897187669063,
          1.5091199609535009,
          -0.6984698236567216,
          -0.024601203126502658,
          -0.410382923120425,
          -0.5301817519520255,
          -0.37045064528134714,
          0.07352073280486193,
          0.8179825955429862,
          0.006748258379528262,
          0.29752523477652737,
          -3.057916926244114,
          -1.2646394698470118,
          1.3296720992762918,
          -0.5349792995901009,
          -0.39050069679519595,
          -0.6764608432993049,
          1.0766345556602535,
          1.3325342318369982,
          -1.6929959342602003,
          0.775193689186441,
          -0.24536493796018574,
          0.2597997263482259,
          0.17960999656748874,
          0.7296442403827188,
          -0.34980585822168464,
          -0.388375153905067,
          -1.2981866723300257,
          0.7874132312806542,
          -0.2961567797700153,
          -0.644320630135059,
          1.4242303080427434,
          -0.9206052511457653,
          0.43790790087465503,
          1.7789742269132163,
          -0.5667627024808293,
          1.7899871470772737,
          -2.101938329058198,
          -0.9627634508464427,
          -0.08385619000392859,
          -1.170423602358762,
          -0.7390599076982168,
          -2.426521388590671,
          -1.2762486789174046,
          0.9248994297279085,
          0.7974849278605987,
          0.6410925550544202,
          0.17876632907723505,
          0.7111345856267253,
          -1.6086568899673566,
          -0.2656497746121794,
          0.2892015799246079,
          1.62227319775669,
          -0.3875187732042129,
          0.7924093370800753,
          -0.2129599395067476,
          -0.04836988766673831,
          0.13419228207750492,
          0.7384923866476132,
          -0.48798665082790216,
          1.8598312325450843,
          -0.709654239541036,
          1.7292037067254535,
          0.9382629850789642,
          0.06702677040185517,
          -1.1452714422659571,
          0.6430265094209124,
          1.517920073060053,
          0.35564090189178493,
          0.3497510456868479,
          0.298908710329097,
          0.39997299662394814,
          0.04411025138818082,
          -0.35574439874727737,
          -1.6136156937498376,
          -0.18949281187515898,
          -0.1905532447414319,
          1.524584402700624,
          -0.1006283848262123,
          -0.17959750693433782,
          1.449544935422013,
          0.0687448897057192,
          -0.11774833720388476,
          -0.1110008277662388,
          -1.0096104409422437,
          0.810462015005553,
          -0.6484104597709118,
          1.810398360140849,
          0.7234300105845994,
          -1.494327594819855,
          0.2633942170681252,
          1.404912614688088,
          -0.5335530280165178,
          -1.8546251539913077,
          -0.5887565473435284,
          -0.03781267481610742,
          1.1378518176319448,
          0.4862877099662302,
          0.5509509197240159,
          1.91762083660472,
          0.553784050812376,
          0.4635102805747389,
          1.0790326640258485,
          -0.4923238590476733,
          1.5583067856807025,
          -0.7340259017966482,
          0.07113642902710002,
          0.6624618003221756,
          3.942164053643541,
          0.36429892034391975,
          1.2112490484703526
         ],
         "y": [
          -0.1774880340738692,
          0.47839012077479637,
          0.8551578494324822,
          0.8267492511945074,
          2.058706411661344,
          -1.3225372895279752,
          -0.6965647438666392,
          0.27306101714703307,
          -0.4407075232379315,
          -1.1873184553297882,
          -0.5560177979031607,
          -0.47647461703340876,
          1.3439205620292878,
          0.6719417260257614,
          0.27497657523037883,
          -0.8695631663373198,
          -2.1990397425833352,
          2.477503750147597,
          -0.9632722428464,
          3.1879051506603124,
          -0.3499651061450593,
          -0.27882702147015914,
          -0.9732341699001484,
          0.4907799249209821,
          -0.646325899554118,
          -1.951072838248389,
          -2.344310068557746,
          -0.6173659239433495,
          0.7718729533415746,
          -0.7633962358181526,
          -1.960893880076275,
          -1.328305570898442,
          1.66352837763301,
          0.4994527981935842,
          -0.5136310254020653,
          -0.1599630106492469,
          -1.5983886695979959,
          -2.5869132938444306,
          -0.08327823662742417,
          -0.7326561253385534,
          -0.32815871902696103,
          1.0731913857852826,
          -0.7463397096941891,
          -0.34266686731405804,
          -0.4160043693115735,
          0.8164412665586646,
          1.457714892918665,
          -0.5626674486727143,
          -0.5890762743432104,
          -0.4405140592082213,
          -0.42739801030628366,
          -0.09918772193106092,
          -1.0602684820877544,
          -0.5082969120390443,
          0.6283250160264889,
          -2.2524064700993507,
          -0.7150762905930568,
          -0.011458836329452963,
          0.7436559724210264,
          -0.684438561912758,
          0.5073560979832942,
          1.5439368661348218,
          0.12261377092977284,
          -0.20328620620880816,
          1.0540844499063164,
          1.5404065838118537,
          1.498757228774885,
          -1.212930031181292,
          -1.2204812717911782,
          -0.636436588912778,
          0.6828283828989653,
          0.226069278970825,
          -1.0704152263305926,
          -0.07750995525695711,
          -0.2656357933716337,
          -0.10370703807281856,
          -1.1674589052216249,
          0.9519926059423247,
          -0.35664447003432154,
          -0.13653899635936848,
          -0.6130439843782398,
          -0.48318425023447986,
          0.7832547385752949,
          -0.5954146209322738,
          -0.4802109021996917,
          -0.06288710812150887,
          0.5699360508707993,
          -0.7857169787289517,
          0.9396390727056767,
          -0.42903336400803177,
          -0.535271024232651,
          0.4170664098831559,
          1.2602439922027557,
          0.380340825875682,
          -0.5905252933479348,
          -0.22569974333640697,
          0.19137129130139835,
          -0.5239123789780529,
          -0.10487974863716544,
          -0.44470421381076986,
          -0.8920385918512941,
          -1.0164018523694511,
          -1.951072838248389,
          0.9612526828149157,
          -0.7521917016238719,
          -1.7771613942847744,
          0.35883488018614607,
          1.0124243668433148,
          0.17794671032237733,
          -0.9493316918977587,
          -1.21818604580985,
          0.6651786515772835,
          0.8486303960429884,
          -0.8694819855430024,
          1.187118955934344,
          0.15298745595156193,
          0.1257569983328062,
          -2.386583417379917,
          -0.5399236745381321,
          -1.4022442213077286,
          0.3637996485534822,
          -0.03089511287532554,
          -0.2549636514564705,
          -0.6200363490836234,
          0.48431687043486166,
          1.4941387603281502,
          2.5325751563986887,
          0.07478018036405808,
          0.040987368519735966,
          -0.382445152686255,
          0.3921763331111991,
          0.7680981813544472,
          0.98536460247417,
          -1.2456834666249903,
          -1.3693641363506504,
          -1.0164018523694511,
          -0.1060259755761266,
          0.2097281554246404,
          0.10559573162665412,
          0.7040086581300249,
          -0.9988160160262252,
          0.4256459850140417,
          1.1584925939961046,
          -0.446424091953099,
          -1.2426513947223925,
          0.19727613632991203,
          0.7743988550040317,
          -0.21038680687675249,
          -0.5652453895526368,
          0.21772556723743192,
          -0.49404567807776995,
          -0.3184282981414241,
          1.2323779300184985,
          0.6850531561120088,
          -0.1334017705540646,
          -0.18410519962030994,
          0.6614423664110007,
          0.8086335330891604,
          -1.2758995495057293,
          -0.40558702362039684,
          0.013358571762912882,
          0.9974577303042622,
          -0.6413952607783456,
          0.5503167640262654,
          0.6387079375204118,
          -0.9429450093189401,
          1.0621729439495176,
          0.897835296651942,
          -0.45628671926740194,
          -0.2800057336322353,
          0.7367283331811822,
          0.04184292074033289,
          -1.4475997396336404,
          0.6352161420182875,
          -0.38712500559444857,
          -0.29527263247215346,
          -0.008394279203739948,
          0.7261292523607704,
          -1.1634663695342318,
          -0.05642046765061699,
          1.416204873643149,
          0.28632321728951826,
          -0.22920088408252412,
          -0.562899820989474,
          0.2393391773466709,
          -0.205747109669023,
          1.3305226121101212,
          -1.0578866426150535,
          0.2441106595169615,
          1.0091915747178057,
          -1.2020406971087207,
          -0.11785897229464692,
          1.5522359945456023,
          -1.255045111415516,
          1.6081662966635548,
          -2.0223392168051175,
          1.0540844499063164,
          -0.430485465072611,
          1.0349809731516064,
          2.8873352698222106,
          0.25473412772990955,
          0.899033562808369,
          -0.6914984075813685,
          0.23871348692583713,
          -1.2711007479597005,
          0.599508733406454,
          1.0037294098114642,
          -1.40175673891339,
          -0.5043649469317446,
          1.6110821727838218,
          -0.8636506230754452,
          0.5967938198476064,
          -1.8699917593462339,
          1.7360956657318758,
          -0.03050887183675589,
          -0.376203186298762,
          -1.36748106349042,
          0.699149286003903,
          -0.1921026114331016,
          -0.24678071882802075,
          -0.5177770840012001,
          -1.1462207366098394,
          0.7556136770366041,
          1.5817393520479301,
          -0.5330017103338509,
          0.43337796774410053,
          0.9116813567481524,
          0.2838091713880513,
          0.5842772393275258,
          -0.4651278275398003,
          1.6995360485457087,
          -0.1443645871875922,
          1.4083971401736446,
          0.3225803039963306,
          0.3812195180754009,
          -1.4884180678533576,
          -2.3047238095238534,
          0.14111346189520027,
          -0.18500427894364652,
          0.34145391895127697,
          -1.5371655130412736,
          -0.1916717870719191,
          1.5122509873527643,
          -1.2499521440703905,
          0.7863942325590877,
          -0.09805000710682583,
          0.11881585896352316,
          0.02102096787323506,
          0.6819846864393584,
          1.4417533683975627,
          0.13980978024965765,
          -0.27958619348918506,
          1.1582129611573648,
          0.0022335217273182118,
          0.25464474213513083,
          -0.22005724533077126,
          -0.6329753892846287,
          -0.06465902548130378,
          1.3571904604051335,
          0.6149728613885512,
          0.37917396947459553,
          0.32135555421451795,
          0.78725855848082,
          -0.7578110596503854,
          -0.2629783490851237,
          0.09249657876760124,
          0.7026389924552353,
          0.23385387246120742,
          0.6022619863516775,
          2.0877760252646147,
          1.9401374122141233,
          1.1023041023829032,
          0.13725497934885722,
          1.0645798969741398,
          0.26374371334061225,
          0.6819788322760983,
          -1.415163462533692,
          -0.4751371436235747,
          0.90443264661762,
          0.04715389412423161,
          -0.620360322906468,
          -0.07084844872641377,
          2.4317942310255396,
          -0.46613957987150667,
          0.18332492233099526,
          0.4283984240778995,
          -0.3834785274891491,
          1.0001401586399945,
          -0.9222876212432093,
          -3.1781212796585168,
          0.6695124469033833,
          0.07936950723394108,
          -0.09185448735994756,
          0.10995770721377082,
          -0.6077939713474113,
          0.11051673055274289,
          -0.1889981324373219,
          0.9568120369504785,
          0.49667291418850606
         ],
         "z": [
          1.1682260804326292,
          -0.024471517808793086,
          0.3585795714788566,
          -0.6607763998589564,
          3.5124713460919885,
          0.6676563157106523,
          -0.8916807614967598,
          2.248770283554393,
          -0.10212058220789395,
          1.783241449049744,
          1.8305247222265673,
          -0.5489761066725336,
          -1.314625548461502,
          -0.1508207554727841,
          0.8996173369702868,
          -1.2529478441957462,
          -0.0774399716950206,
          0.33665239903108835,
          -0.5075938411593149,
          0.6692728449860067,
          0.1375068644277608,
          0.44171347128233945,
          -0.17232164385841442,
          0.8931709111640006,
          0.6298327863913968,
          -1.624844031730761,
          -0.13008498908796243,
          0.38966960324031374,
          -0.5440195418593753,
          0.5054207948826075,
          0.8996539185772409,
          1.7825185565308717,
          1.5010405314226758,
          -0.0497916073271846,
          -1.010363496340762,
          0.21605304601916972,
          0.5453387797863158,
          -0.37130567111939305,
          0.237412061702698,
          -0.2448039624235617,
          0.5140733294196346,
          -0.9087523568126014,
          -0.8011078415340604,
          0.18803545859573254,
          -1.2878950532134572,
          0.40418641811254613,
          0.8205983300538147,
          1.2319545324148982,
          -0.14136228299097187,
          0.49979924812428117,
          -0.8472043063710005,
          0.7537944972549083,
          -1.3197852228977744,
          1.224926591897943,
          0.611314280383499,
          2.727066622127631,
          -0.36554902324668037,
          -0.5837966256267719,
          0.31536169166625344,
          0.19070386259927494,
          0.3640350368945933,
          0.27935668395823,
          -0.5142144916390371,
          -0.5262859228582304,
          -0.28849538482112286,
          0.22815102918777094,
          -0.5848921998558262,
          -0.22255609487719355,
          -0.7374036219151024,
          2.0868960751257504,
          0.041203639589932055,
          -1.4848773611096389,
          0.8869130431026107,
          -0.8774501791175212,
          0.5180706368311593,
          -0.8184638264286906,
          0.1189409778984199,
          -1.0093312780340677,
          1.173763665062559,
          -0.08162167915897217,
          0.4928877674285021,
          0.03898093192277683,
          0.1470380754486367,
          0.08947279876234901,
          -0.3278903276170816,
          0.4442094935266518,
          -0.8645799259058781,
          -0.11407781832870367,
          -0.8500042071129037,
          -1.7635707901131836,
          0.11923857970219273,
          0.7433912272493793,
          -0.3377438041228631,
          -0.2127190167230761,
          -0.29308944330309045,
          -1.027699846595145,
          0.3184478249011507,
          0.19927694187282774,
          0.37994339383727244,
          -0.746132430290326,
          -0.3023854150955159,
          0.16190328480443544,
          -1.624844031730761,
          -1.0859171201754476,
          -0.7189957840735305,
          2.7845558473417196,
          -0.16918586537928104,
          -0.7611794806666109,
          0.8551326165150591,
          3.5008341333139543,
          1.3736888854712288,
          -0.14731413819767503,
          -0.19431117888150404,
          0.7990826137028254,
          1.97655179721937,
          -1.126681374728365,
          0.1587411549606443,
          2.1087264223925892,
          -0.852378962861152,
          0.810410323831111,
          -0.20431225146676082,
          -0.5849614797403092,
          -0.7412946448844422,
          -2.2314212764672634,
          -0.01668481928374612,
          -0.24108965121644785,
          1.6322911109996603,
          0.2080323021974596,
          0.1105721339022915,
          -1.6157597109780601,
          -0.4437317818044135,
          0.6641369811044572,
          -0.2720792450538761,
          -0.9177827023180709,
          0.018789312304881615,
          0.16190328480443544,
          -0.6660596055140848,
          1.362377128962613,
          -0.19475659913074944,
          -0.7949977919181433,
          0.6698279618357865,
          -0.04392852092376714,
          1.0105145672210296,
          -0.8590998971763835,
          0.41389434089564797,
          -0.7874719678684697,
          -0.4157765569562986,
          -0.18369922159693308,
          0.29137008260509695,
          -0.21558819734946255,
          0.21952520068867215,
          -0.4849742852498028,
          -0.4274172738929839,
          -0.24009344412041772,
          -0.037335770413760766,
          -1.0460845911418895,
          0.07377164085777686,
          -0.10863840690001128,
          0.5327974870027419,
          0.38592294006186617,
          0.274977036132678,
          -1.2965039431129242,
          1.399971142430791,
          -2.3715219309155366,
          -0.06865460076640015,
          0.01861048990838289,
          0.04193676235110132,
          -1.1689112579111016,
          -0.05080073233905147,
          1.0114509536938328,
          -0.08172931162146511,
          -0.15682225592372356,
          -1.7223352039769553,
          -1.1069309994452396,
          0.14246110965482098,
          0.3511220557478751,
          -0.8678600641759034,
          -1.6636258468858598,
          -1.142534286404883,
          -0.4629974675577994,
          0.0355840577444335,
          -0.2776837765680182,
          0.160783491626243,
          0.28364348193257916,
          -0.4515011104120062,
          1.0393440761506483,
          -0.6332631366055054,
          -0.2505423236763346,
          -0.3711713268908443,
          -0.7064672086210428,
          1.3392758655060486,
          0.6599645323170114,
          0.7191895828888729,
          -1.3708684172403813,
          -1.1079955697232677,
          -1.252678759254209,
          -0.28849538482112286,
          -0.1357933397367467,
          0.34028854813173054,
          3.3308197791129897,
          -1.5059108750196786,
          0.6894332063469801,
          -0.39713559052054886,
          -0.3308070428534312,
          0.3249645239389577,
          0.6977004184872916,
          -1.227018634306118,
          -0.12970193141403943,
          -0.4582796006276721,
          0.806671771893612,
          1.2009626738546773,
          -1.5649894551663757,
          1.759243068400872,
          0.6048172159859392,
          0.6294377286462831,
          0.0885525882752129,
          0.2853768474836263,
          -1.0088957570766712,
          0.531880735170186,
          0.2815285524493618,
          0.5549149834650595,
          -1.6653370907078695,
          0.13002836603622478,
          -0.9023088947669972,
          1.6002253232675303,
          1.9200515674830034,
          0.02644083307099051,
          -1.5376751256215635,
          0.8298053873215094,
          0.66281061964857,
          -0.17858645101021198,
          -0.09136787787553137,
          -0.4772407672681241,
          0.32407086540122965,
          0.13090584858828616,
          1.2968731056701848,
          -1.518190000170877,
          0.09140213426135223,
          0.13264944438162962,
          -0.15801274528418402,
          1.921427950637643,
          0.03715788086595903,
          -0.326886009280103,
          -0.7316456260220824,
          0.24796857372110745,
          0.07611638600203657,
          0.08292277618741811,
          0.13110316655654958,
          -0.8231503347345219,
          0.5246393006993005,
          0.5963736685379196,
          -1.2260395198982403,
          0.4015180141090039,
          0.6202635000218142,
          -0.48314777553840443,
          -0.37117883533447527,
          -0.007310308930331304,
          -0.48109943826612994,
          -0.28124929776386903,
          0.43798163606925095,
          -0.7747298984620515,
          0.7101366207604684,
          0.6283304304331795,
          -0.7644975401968234,
          -1.5347666757146823,
          0.09622968942493966,
          0.2678312329109335,
          -1.583071791234459,
          -0.41576829162683004,
          -0.022478625802680303,
          0.6550456663980428,
          -0.09143815110705178,
          0.26680847386549517,
          -1.3802081103149195,
          -0.9518042772812372,
          0.9372677672704165,
          -0.09609576609612958,
          -2.186946047057669,
          -0.3067576689400151,
          1.4674485771776047,
          -0.09292898366597038,
          -1.4106283534563209,
          0.5324661852073275,
          -0.13579934034342253,
          -0.6954329243820542,
          0.6787519691779261,
          -0.38932353397788094,
          2.5819264123035937,
          -0.6699125531347176,
          0.43510688615401166,
          -1.1758443381599555,
          -1.3754592394337657,
          0.28359398240978806,
          -0.5365364457447765,
          -1.7320269507743902,
          -0.35691012274322464,
          3.2678319897443893,
          -1.7011563587102336,
          0.918999482544849
         ]
        }
       ],
       "layout": {
        "template": {
         "data": {
          "bar": [
           {
            "error_x": {
             "color": "#2a3f5f"
            },
            "error_y": {
             "color": "#2a3f5f"
            },
            "marker": {
             "line": {
              "color": "#E5ECF6",
              "width": 0.5
             },
             "pattern": {
              "fillmode": "overlay",
              "size": 10,
              "solidity": 0.2
             }
            },
            "type": "bar"
           }
          ],
          "barpolar": [
           {
            "marker": {
             "line": {
              "color": "#E5ECF6",
              "width": 0.5
             },
             "pattern": {
              "fillmode": "overlay",
              "size": 10,
              "solidity": 0.2
             }
            },
            "type": "barpolar"
           }
          ],
          "carpet": [
           {
            "aaxis": {
             "endlinecolor": "#2a3f5f",
             "gridcolor": "white",
             "linecolor": "white",
             "minorgridcolor": "white",
             "startlinecolor": "#2a3f5f"
            },
            "baxis": {
             "endlinecolor": "#2a3f5f",
             "gridcolor": "white",
             "linecolor": "white",
             "minorgridcolor": "white",
             "startlinecolor": "#2a3f5f"
            },
            "type": "carpet"
           }
          ],
          "choropleth": [
           {
            "colorbar": {
             "outlinewidth": 0,
             "ticks": ""
            },
            "type": "choropleth"
           }
          ],
          "contour": [
           {
            "colorbar": {
             "outlinewidth": 0,
             "ticks": ""
            },
            "colorscale": [
             [
              0,
              "#0d0887"
             ],
             [
              0.1111111111111111,
              "#46039f"
             ],
             [
              0.2222222222222222,
              "#7201a8"
             ],
             [
              0.3333333333333333,
              "#9c179e"
             ],
             [
              0.4444444444444444,
              "#bd3786"
             ],
             [
              0.5555555555555556,
              "#d8576b"
             ],
             [
              0.6666666666666666,
              "#ed7953"
             ],
             [
              0.7777777777777778,
              "#fb9f3a"
             ],
             [
              0.8888888888888888,
              "#fdca26"
             ],
             [
              1,
              "#f0f921"
             ]
            ],
            "type": "contour"
           }
          ],
          "contourcarpet": [
           {
            "colorbar": {
             "outlinewidth": 0,
             "ticks": ""
            },
            "type": "contourcarpet"
           }
          ],
          "heatmap": [
           {
            "colorbar": {
             "outlinewidth": 0,
             "ticks": ""
            },
            "colorscale": [
             [
              0,
              "#0d0887"
             ],
             [
              0.1111111111111111,
              "#46039f"
             ],
             [
              0.2222222222222222,
              "#7201a8"
             ],
             [
              0.3333333333333333,
              "#9c179e"
             ],
             [
              0.4444444444444444,
              "#bd3786"
             ],
             [
              0.5555555555555556,
              "#d8576b"
             ],
             [
              0.6666666666666666,
              "#ed7953"
             ],
             [
              0.7777777777777778,
              "#fb9f3a"
             ],
             [
              0.8888888888888888,
              "#fdca26"
             ],
             [
              1,
              "#f0f921"
             ]
            ],
            "type": "heatmap"
           }
          ],
          "heatmapgl": [
           {
            "colorbar": {
             "outlinewidth": 0,
             "ticks": ""
            },
            "colorscale": [
             [
              0,
              "#0d0887"
             ],
             [
              0.1111111111111111,
              "#46039f"
             ],
             [
              0.2222222222222222,
              "#7201a8"
             ],
             [
              0.3333333333333333,
              "#9c179e"
             ],
             [
              0.4444444444444444,
              "#bd3786"
             ],
             [
              0.5555555555555556,
              "#d8576b"
             ],
             [
              0.6666666666666666,
              "#ed7953"
             ],
             [
              0.7777777777777778,
              "#fb9f3a"
             ],
             [
              0.8888888888888888,
              "#fdca26"
             ],
             [
              1,
              "#f0f921"
             ]
            ],
            "type": "heatmapgl"
           }
          ],
          "histogram": [
           {
            "marker": {
             "pattern": {
              "fillmode": "overlay",
              "size": 10,
              "solidity": 0.2
             }
            },
            "type": "histogram"
           }
          ],
          "histogram2d": [
           {
            "colorbar": {
             "outlinewidth": 0,
             "ticks": ""
            },
            "colorscale": [
             [
              0,
              "#0d0887"
             ],
             [
              0.1111111111111111,
              "#46039f"
             ],
             [
              0.2222222222222222,
              "#7201a8"
             ],
             [
              0.3333333333333333,
              "#9c179e"
             ],
             [
              0.4444444444444444,
              "#bd3786"
             ],
             [
              0.5555555555555556,
              "#d8576b"
             ],
             [
              0.6666666666666666,
              "#ed7953"
             ],
             [
              0.7777777777777778,
              "#fb9f3a"
             ],
             [
              0.8888888888888888,
              "#fdca26"
             ],
             [
              1,
              "#f0f921"
             ]
            ],
            "type": "histogram2d"
           }
          ],
          "histogram2dcontour": [
           {
            "colorbar": {
             "outlinewidth": 0,
             "ticks": ""
            },
            "colorscale": [
             [
              0,
              "#0d0887"
             ],
             [
              0.1111111111111111,
              "#46039f"
             ],
             [
              0.2222222222222222,
              "#7201a8"
             ],
             [
              0.3333333333333333,
              "#9c179e"
             ],
             [
              0.4444444444444444,
              "#bd3786"
             ],
             [
              0.5555555555555556,
              "#d8576b"
             ],
             [
              0.6666666666666666,
              "#ed7953"
             ],
             [
              0.7777777777777778,
              "#fb9f3a"
             ],
             [
              0.8888888888888888,
              "#fdca26"
             ],
             [
              1,
              "#f0f921"
             ]
            ],
            "type": "histogram2dcontour"
           }
          ],
          "mesh3d": [
           {
            "colorbar": {
             "outlinewidth": 0,
             "ticks": ""
            },
            "type": "mesh3d"
           }
          ],
          "parcoords": [
           {
            "line": {
             "colorbar": {
              "outlinewidth": 0,
              "ticks": ""
             }
            },
            "type": "parcoords"
           }
          ],
          "pie": [
           {
            "automargin": true,
            "type": "pie"
           }
          ],
          "scatter": [
           {
            "fillpattern": {
             "fillmode": "overlay",
             "size": 10,
             "solidity": 0.2
            },
            "type": "scatter"
           }
          ],
          "scatter3d": [
           {
            "line": {
             "colorbar": {
              "outlinewidth": 0,
              "ticks": ""
             }
            },
            "marker": {
             "colorbar": {
              "outlinewidth": 0,
              "ticks": ""
             }
            },
            "type": "scatter3d"
           }
          ],
          "scattercarpet": [
           {
            "marker": {
             "colorbar": {
              "outlinewidth": 0,
              "ticks": ""
             }
            },
            "type": "scattercarpet"
           }
          ],
          "scattergeo": [
           {
            "marker": {
             "colorbar": {
              "outlinewidth": 0,
              "ticks": ""
             }
            },
            "type": "scattergeo"
           }
          ],
          "scattergl": [
           {
            "marker": {
             "colorbar": {
              "outlinewidth": 0,
              "ticks": ""
             }
            },
            "type": "scattergl"
           }
          ],
          "scattermapbox": [
           {
            "marker": {
             "colorbar": {
              "outlinewidth": 0,
              "ticks": ""
             }
            },
            "type": "scattermapbox"
           }
          ],
          "scatterpolar": [
           {
            "marker": {
             "colorbar": {
              "outlinewidth": 0,
              "ticks": ""
             }
            },
            "type": "scatterpolar"
           }
          ],
          "scatterpolargl": [
           {
            "marker": {
             "colorbar": {
              "outlinewidth": 0,
              "ticks": ""
             }
            },
            "type": "scatterpolargl"
           }
          ],
          "scatterternary": [
           {
            "marker": {
             "colorbar": {
              "outlinewidth": 0,
              "ticks": ""
             }
            },
            "type": "scatterternary"
           }
          ],
          "surface": [
           {
            "colorbar": {
             "outlinewidth": 0,
             "ticks": ""
            },
            "colorscale": [
             [
              0,
              "#0d0887"
             ],
             [
              0.1111111111111111,
              "#46039f"
             ],
             [
              0.2222222222222222,
              "#7201a8"
             ],
             [
              0.3333333333333333,
              "#9c179e"
             ],
             [
              0.4444444444444444,
              "#bd3786"
             ],
             [
              0.5555555555555556,
              "#d8576b"
             ],
             [
              0.6666666666666666,
              "#ed7953"
             ],
             [
              0.7777777777777778,
              "#fb9f3a"
             ],
             [
              0.8888888888888888,
              "#fdca26"
             ],
             [
              1,
              "#f0f921"
             ]
            ],
            "type": "surface"
           }
          ],
          "table": [
           {
            "cells": {
             "fill": {
              "color": "#EBF0F8"
             },
             "line": {
              "color": "white"
             }
            },
            "header": {
             "fill": {
              "color": "#C8D4E3"
             },
             "line": {
              "color": "white"
             }
            },
            "type": "table"
           }
          ]
         },
         "layout": {
          "annotationdefaults": {
           "arrowcolor": "#2a3f5f",
           "arrowhead": 0,
           "arrowwidth": 1
          },
          "autotypenumbers": "strict",
          "coloraxis": {
           "colorbar": {
            "outlinewidth": 0,
            "ticks": ""
           }
          },
          "colorscale": {
           "diverging": [
            [
             0,
             "#8e0152"
            ],
            [
             0.1,
             "#c51b7d"
            ],
            [
             0.2,
             "#de77ae"
            ],
            [
             0.3,
             "#f1b6da"
            ],
            [
             0.4,
             "#fde0ef"
            ],
            [
             0.5,
             "#f7f7f7"
            ],
            [
             0.6,
             "#e6f5d0"
            ],
            [
             0.7,
             "#b8e186"
            ],
            [
             0.8,
             "#7fbc41"
            ],
            [
             0.9,
             "#4d9221"
            ],
            [
             1,
             "#276419"
            ]
           ],
           "sequential": [
            [
             0,
             "#0d0887"
            ],
            [
             0.1111111111111111,
             "#46039f"
            ],
            [
             0.2222222222222222,
             "#7201a8"
            ],
            [
             0.3333333333333333,
             "#9c179e"
            ],
            [
             0.4444444444444444,
             "#bd3786"
            ],
            [
             0.5555555555555556,
             "#d8576b"
            ],
            [
             0.6666666666666666,
             "#ed7953"
            ],
            [
             0.7777777777777778,
             "#fb9f3a"
            ],
            [
             0.8888888888888888,
             "#fdca26"
            ],
            [
             1,
             "#f0f921"
            ]
           ],
           "sequentialminus": [
            [
             0,
             "#0d0887"
            ],
            [
             0.1111111111111111,
             "#46039f"
            ],
            [
             0.2222222222222222,
             "#7201a8"
            ],
            [
             0.3333333333333333,
             "#9c179e"
            ],
            [
             0.4444444444444444,
             "#bd3786"
            ],
            [
             0.5555555555555556,
             "#d8576b"
            ],
            [
             0.6666666666666666,
             "#ed7953"
            ],
            [
             0.7777777777777778,
             "#fb9f3a"
            ],
            [
             0.8888888888888888,
             "#fdca26"
            ],
            [
             1,
             "#f0f921"
            ]
           ]
          },
          "colorway": [
           "#636efa",
           "#EF553B",
           "#00cc96",
           "#ab63fa",
           "#FFA15A",
           "#19d3f3",
           "#FF6692",
           "#B6E880",
           "#FF97FF",
           "#FECB52"
          ],
          "font": {
           "color": "#2a3f5f"
          },
          "geo": {
           "bgcolor": "white",
           "lakecolor": "white",
           "landcolor": "#E5ECF6",
           "showlakes": true,
           "showland": true,
           "subunitcolor": "white"
          },
          "hoverlabel": {
           "align": "left"
          },
          "hovermode": "closest",
          "mapbox": {
           "style": "light"
          },
          "paper_bgcolor": "white",
          "plot_bgcolor": "#E5ECF6",
          "polar": {
           "angularaxis": {
            "gridcolor": "white",
            "linecolor": "white",
            "ticks": ""
           },
           "bgcolor": "#E5ECF6",
           "radialaxis": {
            "gridcolor": "white",
            "linecolor": "white",
            "ticks": ""
           }
          },
          "scene": {
           "xaxis": {
            "backgroundcolor": "#E5ECF6",
            "gridcolor": "white",
            "gridwidth": 2,
            "linecolor": "white",
            "showbackground": true,
            "ticks": "",
            "zerolinecolor": "white"
           },
           "yaxis": {
            "backgroundcolor": "#E5ECF6",
            "gridcolor": "white",
            "gridwidth": 2,
            "linecolor": "white",
            "showbackground": true,
            "ticks": "",
            "zerolinecolor": "white"
           },
           "zaxis": {
            "backgroundcolor": "#E5ECF6",
            "gridcolor": "white",
            "gridwidth": 2,
            "linecolor": "white",
            "showbackground": true,
            "ticks": "",
            "zerolinecolor": "white"
           }
          },
          "shapedefaults": {
           "line": {
            "color": "#2a3f5f"
           }
          },
          "ternary": {
           "aaxis": {
            "gridcolor": "white",
            "linecolor": "white",
            "ticks": ""
           },
           "baxis": {
            "gridcolor": "white",
            "linecolor": "white",
            "ticks": ""
           },
           "bgcolor": "#E5ECF6",
           "caxis": {
            "gridcolor": "white",
            "linecolor": "white",
            "ticks": ""
           }
          },
          "title": {
           "x": 0.05
          },
          "xaxis": {
           "automargin": true,
           "gridcolor": "white",
           "linecolor": "white",
           "ticks": "",
           "title": {
            "standoff": 15
           },
           "zerolinecolor": "white",
           "zerolinewidth": 2
          },
          "yaxis": {
           "automargin": true,
           "gridcolor": "white",
           "linecolor": "white",
           "ticks": "",
           "title": {
            "standoff": 15
           },
           "zerolinecolor": "white",
           "zerolinewidth": 2
          }
         }
        }
       }
      },
      "text/html": [
       "<div>                            <div id=\"aff29485-61a6-4b7f-b472-d68f35cac71d\" class=\"plotly-graph-div\" style=\"height:525px; width:100%;\"></div>            <script type=\"text/javascript\">                require([\"plotly\"], function(Plotly) {                    window.PLOTLYENV=window.PLOTLYENV || {};                                    if (document.getElementById(\"aff29485-61a6-4b7f-b472-d68f35cac71d\")) {                    Plotly.newPlot(                        \"aff29485-61a6-4b7f-b472-d68f35cac71d\",                        [{\"marker\":{\"color\":[0,3,1,3,1,0,0,4,2,0,0,2,3,3,4,0,0,1,2,1,2,0,2,4,0,2,0,0,3,0,0,0,1,3,2,0,0,2,3,2,0,3,2,0,2,3,1,4,0,4,0,4,2,0,1,0,0,3,3,0,4,1,3,4,3,1,3,2,2,4,4,3,0,0,0,3,2,3,0,2,0,0,1,0,2,4,3,2,3,2,0,0,3,3,2,2,0,0,2,2,2,0,2,3,2,4,3,3,0,4,0,3,3,0,1,3,3,4,2,0,3,0,2,2,3,3,1,3,3,2,3,1,3,2,0,0,2,0,3,3,0,4,1,2,0,3,3,0,0,3,0,2,3,3,0,3,3,3,0,4,0,3,4,3,3,0,3,3,2,0,3,3,2,3,0,4,0,3,2,3,3,3,0,0,3,4,3,2,3,3,0,0,1,2,3,2,3,2,3,1,3,4,0,3,0,4,3,0,2,1,4,3,4,1,0,0,2,3,0,4,0,2,4,3,4,1,1,3,1,0,1,0,3,3,3,0,2,0,0,3,4,0,3,2,3,3,3,0,3,1,4,2,3,0,3,4,2,3,3,3,3,0,1,2,2,4,3,3,3,3,1,3,0,3,3,4,2,2,3,4,0,0,1,0,3,4,2,4,2,2,3,3,4,3,2,3,4,3,4],\"colorscale\":[[0.0,\"rgb(158,1,66)\"],[0.1,\"rgb(213,62,79)\"],[0.2,\"rgb(244,109,67)\"],[0.3,\"rgb(253,174,97)\"],[0.4,\"rgb(254,224,139)\"],[0.5,\"rgb(255,255,191)\"],[0.6,\"rgb(230,245,152)\"],[0.7,\"rgb(171,221,164)\"],[0.8,\"rgb(102,194,165)\"],[0.9,\"rgb(50,136,189)\"],[1.0,\"rgb(94,79,162)\"]],\"size\":5},\"mode\":\"markers\",\"x\":[-1.521498389369993,0.16180502940522773,-1.841367481654962,0.18643558235246419,-2.426617562427014,-2.3311922714005666,-1.4751810361748527,0.47366086405057845,0.034010764477948846,-0.5932435096391637,-0.749765262889159,0.2943645656764993,-0.048007052991662184,0.5993114465607762,1.7888371257559634,-2.425450254165256,-0.7891813498598556,-1.1597694214603147,-0.0994691746848564,-2.5014398536969464,-0.016848249695877057,-0.015421978122293836,0.24539503672280294,0.7778614624230034,-0.9427200981807999,-0.6589780562465558,-1.7582332500650077,-0.397048239437724,-0.9255350534558994,-1.9906489899900972,-1.8802161614268422,-1.1242783058636245,-0.2319068982352273,0.9611795040926384,-0.2467961054526349,-0.9590112689941184,-1.9311335690996891,0.5273767142727506,0.3237690226916214,1.192898976733416,-0.7860647493126954,-0.23335245206362523,-0.6265320709993708,-1.1586554910138864,0.34838016358005214,0.5495716593457389,-0.3872660367181384,1.364497030399084,-2.1421090768122277,1.4829754706718106,-0.781395309586582,1.6796961625996167,1.3020361253089634,-0.16597988419032286,-0.572002433673166,-0.9494106960509854,-0.5187589859175861,-0.10559127397899391,0.7815119927720023,-0.6761106020700026,1.8008260978863249,-0.48641350944586254,0.4905472424321649,2.5492075528267293,0.8179825955429862,-2.1417702178866405,0.5101020747948872,-0.031223417490632968,0.2042073328680869,1.0364970145136978,2.0109145603394794,-0.47229175888175373,-1.8587413816607665,-0.88314494284532,-0.7238416333929536,-0.050716291342352955,0.3984396472306881,1.1107353707934158,-1.2814993304301658,1.1302126471671279,-0.2689235459334435,-0.2591475116645786,-0.9385416624315207,-1.8962310819878874,0.9397476501515688,1.7566859922712925,-0.27350391756284015,0.47886450436803324,0.8768891441204504,0.5947533775555195,-0.6159975613663738,-0.24604982294078268,0.955069868440283,-0.5304086371390703,1.2717791021737859,0.39694406183765873,-0.5221886554810996,-0.5066399525988348,0.47436972478066386,0.12031001014621485,0.5712736564781571,-0.6221668016598096,-0.6589780562465558,1.0393759556944708,1.0538474170903958,1.9488927421217408,0.28950862453940246,0.6449488106941872,-0.341894002516576,5.065728951206603,-1.4646326021891967,-0.1918741116206874,0.3192314470832382,0.2238500805604973,-0.9617265317463681,-0.1377291332733176,0.0504087423214416,0.6442454439681748,-0.08368401353909825,-1.4453734321375542,-0.5329554082032969,-0.9056365489080898,0.30118714742924146,0.31907856921031424,-0.6165620943369472,0.48459967347277977,-0.8691705098277881,0.4531587316250798,-0.09213323425403551,1.1952416956322236,0.420716961552187,-0.7999541269836118,0.7722868379105543,1.1611246022764805,-1.1013100821599697,-0.6221668016598096,-0.6674405205695797,-0.9514002894530833,-0.3537675185557798,0.32263459884831885,-1.2404755545727906,1.6916111437529493,0.35042333722167085,0.39169040629266316,0.23919773530957708,1.0539810127085052,0.012599533737744584,-0.25312278730967736,-1.251952899525453,-0.28786280713501516,-0.8530886876922488,0.11066676094689486,-0.3685892211810073,0.5176803680867689,-0.4032750626816165,0.019216852183008917,0.4535089728543822,0.37924162514148296,-1.6463535267273037,0.9833792624251274,-0.734344267325362,0.44704922577671596,1.0786993511814391,0.06091004534696441,1.4505071828004852,-1.4876496299783333,-0.41041479882101356,-1.4904534888048449,0.07556090241424684,-0.5836851717372978,0.34204128887073,1.2017321756826151,0.0968266042920452,0.31495263236248844,-0.05739321442869771,0.6513478104029099,-1.6010651926811363,0.20329376981027023,0.9885119157977873,0.7768829368219503,1.0952294639321647,-0.2885036849525395,-0.28742765460825864,-1.2582085944377002,-0.12537599556099474,0.6888250033959421,-0.4906923241666124,1.6779906367415265,-0.41796897187669063,1.5091199609535009,-0.6984698236567216,-0.024601203126502658,-0.410382923120425,-0.5301817519520255,-0.37045064528134714,0.07352073280486193,0.8179825955429862,0.006748258379528262,0.29752523477652737,-3.057916926244114,-1.2646394698470118,1.3296720992762918,-0.5349792995901009,-0.39050069679519595,-0.6764608432993049,1.0766345556602535,1.3325342318369982,-1.6929959342602003,0.775193689186441,-0.24536493796018574,0.2597997263482259,0.17960999656748874,0.7296442403827188,-0.34980585822168464,-0.388375153905067,-1.2981866723300257,0.7874132312806542,-0.2961567797700153,-0.644320630135059,1.4242303080427434,-0.9206052511457653,0.43790790087465503,1.7789742269132163,-0.5667627024808293,1.7899871470772737,-2.101938329058198,-0.9627634508464427,-0.08385619000392859,-1.170423602358762,-0.7390599076982168,-2.426521388590671,-1.2762486789174046,0.9248994297279085,0.7974849278605987,0.6410925550544202,0.17876632907723505,0.7111345856267253,-1.6086568899673566,-0.2656497746121794,0.2892015799246079,1.62227319775669,-0.3875187732042129,0.7924093370800753,-0.2129599395067476,-0.04836988766673831,0.13419228207750492,0.7384923866476132,-0.48798665082790216,1.8598312325450843,-0.709654239541036,1.7292037067254535,0.9382629850789642,0.06702677040185517,-1.1452714422659571,0.6430265094209124,1.517920073060053,0.35564090189178493,0.3497510456868479,0.298908710329097,0.39997299662394814,0.04411025138818082,-0.35574439874727737,-1.6136156937498376,-0.18949281187515898,-0.1905532447414319,1.524584402700624,-0.1006283848262123,-0.17959750693433782,1.449544935422013,0.0687448897057192,-0.11774833720388476,-0.1110008277662388,-1.0096104409422437,0.810462015005553,-0.6484104597709118,1.810398360140849,0.7234300105845994,-1.494327594819855,0.2633942170681252,1.404912614688088,-0.5335530280165178,-1.8546251539913077,-0.5887565473435284,-0.03781267481610742,1.1378518176319448,0.4862877099662302,0.5509509197240159,1.91762083660472,0.553784050812376,0.4635102805747389,1.0790326640258485,-0.4923238590476733,1.5583067856807025,-0.7340259017966482,0.07113642902710002,0.6624618003221756,3.942164053643541,0.36429892034391975,1.2112490484703526],\"y\":[-0.1774880340738692,0.47839012077479637,0.8551578494324822,0.8267492511945074,2.058706411661344,-1.3225372895279752,-0.6965647438666392,0.27306101714703307,-0.4407075232379315,-1.1873184553297882,-0.5560177979031607,-0.47647461703340876,1.3439205620292878,0.6719417260257614,0.27497657523037883,-0.8695631663373198,-2.1990397425833352,2.477503750147597,-0.9632722428464,3.1879051506603124,-0.3499651061450593,-0.27882702147015914,-0.9732341699001484,0.4907799249209821,-0.646325899554118,-1.951072838248389,-2.344310068557746,-0.6173659239433495,0.7718729533415746,-0.7633962358181526,-1.960893880076275,-1.328305570898442,1.66352837763301,0.4994527981935842,-0.5136310254020653,-0.1599630106492469,-1.5983886695979959,-2.5869132938444306,-0.08327823662742417,-0.7326561253385534,-0.32815871902696103,1.0731913857852826,-0.7463397096941891,-0.34266686731405804,-0.4160043693115735,0.8164412665586646,1.457714892918665,-0.5626674486727143,-0.5890762743432104,-0.4405140592082213,-0.42739801030628366,-0.09918772193106092,-1.0602684820877544,-0.5082969120390443,0.6283250160264889,-2.2524064700993507,-0.7150762905930568,-0.011458836329452963,0.7436559724210264,-0.684438561912758,0.5073560979832942,1.5439368661348218,0.12261377092977284,-0.20328620620880816,1.0540844499063164,1.5404065838118537,1.498757228774885,-1.212930031181292,-1.2204812717911782,-0.636436588912778,0.6828283828989653,0.226069278970825,-1.0704152263305926,-0.07750995525695711,-0.2656357933716337,-0.10370703807281856,-1.1674589052216249,0.9519926059423247,-0.35664447003432154,-0.13653899635936848,-0.6130439843782398,-0.48318425023447986,0.7832547385752949,-0.5954146209322738,-0.4802109021996917,-0.06288710812150887,0.5699360508707993,-0.7857169787289517,0.9396390727056767,-0.42903336400803177,-0.535271024232651,0.4170664098831559,1.2602439922027557,0.380340825875682,-0.5905252933479348,-0.22569974333640697,0.19137129130139835,-0.5239123789780529,-0.10487974863716544,-0.44470421381076986,-0.8920385918512941,-1.0164018523694511,-1.951072838248389,0.9612526828149157,-0.7521917016238719,-1.7771613942847744,0.35883488018614607,1.0124243668433148,0.17794671032237733,-0.9493316918977587,-1.21818604580985,0.6651786515772835,0.8486303960429884,-0.8694819855430024,1.187118955934344,0.15298745595156193,0.1257569983328062,-2.386583417379917,-0.5399236745381321,-1.4022442213077286,0.3637996485534822,-0.03089511287532554,-0.2549636514564705,-0.6200363490836234,0.48431687043486166,1.4941387603281502,2.5325751563986887,0.07478018036405808,0.040987368519735966,-0.382445152686255,0.3921763331111991,0.7680981813544472,0.98536460247417,-1.2456834666249903,-1.3693641363506504,-1.0164018523694511,-0.1060259755761266,0.2097281554246404,0.10559573162665412,0.7040086581300249,-0.9988160160262252,0.4256459850140417,1.1584925939961046,-0.446424091953099,-1.2426513947223925,0.19727613632991203,0.7743988550040317,-0.21038680687675249,-0.5652453895526368,0.21772556723743192,-0.49404567807776995,-0.3184282981414241,1.2323779300184985,0.6850531561120088,-0.1334017705540646,-0.18410519962030994,0.6614423664110007,0.8086335330891604,-1.2758995495057293,-0.40558702362039684,0.013358571762912882,0.9974577303042622,-0.6413952607783456,0.5503167640262654,0.6387079375204118,-0.9429450093189401,1.0621729439495176,0.897835296651942,-0.45628671926740194,-0.2800057336322353,0.7367283331811822,0.04184292074033289,-1.4475997396336404,0.6352161420182875,-0.38712500559444857,-0.29527263247215346,-0.008394279203739948,0.7261292523607704,-1.1634663695342318,-0.05642046765061699,1.416204873643149,0.28632321728951826,-0.22920088408252412,-0.562899820989474,0.2393391773466709,-0.205747109669023,1.3305226121101212,-1.0578866426150535,0.2441106595169615,1.0091915747178057,-1.2020406971087207,-0.11785897229464692,1.5522359945456023,-1.255045111415516,1.6081662966635548,-2.0223392168051175,1.0540844499063164,-0.430485465072611,1.0349809731516064,2.8873352698222106,0.25473412772990955,0.899033562808369,-0.6914984075813685,0.23871348692583713,-1.2711007479597005,0.599508733406454,1.0037294098114642,-1.40175673891339,-0.5043649469317446,1.6110821727838218,-0.8636506230754452,0.5967938198476064,-1.8699917593462339,1.7360956657318758,-0.03050887183675589,-0.376203186298762,-1.36748106349042,0.699149286003903,-0.1921026114331016,-0.24678071882802075,-0.5177770840012001,-1.1462207366098394,0.7556136770366041,1.5817393520479301,-0.5330017103338509,0.43337796774410053,0.9116813567481524,0.2838091713880513,0.5842772393275258,-0.4651278275398003,1.6995360485457087,-0.1443645871875922,1.4083971401736446,0.3225803039963306,0.3812195180754009,-1.4884180678533576,-2.3047238095238534,0.14111346189520027,-0.18500427894364652,0.34145391895127697,-1.5371655130412736,-0.1916717870719191,1.5122509873527643,-1.2499521440703905,0.7863942325590877,-0.09805000710682583,0.11881585896352316,0.02102096787323506,0.6819846864393584,1.4417533683975627,0.13980978024965765,-0.27958619348918506,1.1582129611573648,0.0022335217273182118,0.25464474213513083,-0.22005724533077126,-0.6329753892846287,-0.06465902548130378,1.3571904604051335,0.6149728613885512,0.37917396947459553,0.32135555421451795,0.78725855848082,-0.7578110596503854,-0.2629783490851237,0.09249657876760124,0.7026389924552353,0.23385387246120742,0.6022619863516775,2.0877760252646147,1.9401374122141233,1.1023041023829032,0.13725497934885722,1.0645798969741398,0.26374371334061225,0.6819788322760983,-1.415163462533692,-0.4751371436235747,0.90443264661762,0.04715389412423161,-0.620360322906468,-0.07084844872641377,2.4317942310255396,-0.46613957987150667,0.18332492233099526,0.4283984240778995,-0.3834785274891491,1.0001401586399945,-0.9222876212432093,-3.1781212796585168,0.6695124469033833,0.07936950723394108,-0.09185448735994756,0.10995770721377082,-0.6077939713474113,0.11051673055274289,-0.1889981324373219,0.9568120369504785,0.49667291418850606],\"z\":[1.1682260804326292,-0.024471517808793086,0.3585795714788566,-0.6607763998589564,3.5124713460919885,0.6676563157106523,-0.8916807614967598,2.248770283554393,-0.10212058220789395,1.783241449049744,1.8305247222265673,-0.5489761066725336,-1.314625548461502,-0.1508207554727841,0.8996173369702868,-1.2529478441957462,-0.0774399716950206,0.33665239903108835,-0.5075938411593149,0.6692728449860067,0.1375068644277608,0.44171347128233945,-0.17232164385841442,0.8931709111640006,0.6298327863913968,-1.624844031730761,-0.13008498908796243,0.38966960324031374,-0.5440195418593753,0.5054207948826075,0.8996539185772409,1.7825185565308717,1.5010405314226758,-0.0497916073271846,-1.010363496340762,0.21605304601916972,0.5453387797863158,-0.37130567111939305,0.237412061702698,-0.2448039624235617,0.5140733294196346,-0.9087523568126014,-0.8011078415340604,0.18803545859573254,-1.2878950532134572,0.40418641811254613,0.8205983300538147,1.2319545324148982,-0.14136228299097187,0.49979924812428117,-0.8472043063710005,0.7537944972549083,-1.3197852228977744,1.224926591897943,0.611314280383499,2.727066622127631,-0.36554902324668037,-0.5837966256267719,0.31536169166625344,0.19070386259927494,0.3640350368945933,0.27935668395823,-0.5142144916390371,-0.5262859228582304,-0.28849538482112286,0.22815102918777094,-0.5848921998558262,-0.22255609487719355,-0.7374036219151024,2.0868960751257504,0.041203639589932055,-1.4848773611096389,0.8869130431026107,-0.8774501791175212,0.5180706368311593,-0.8184638264286906,0.1189409778984199,-1.0093312780340677,1.173763665062559,-0.08162167915897217,0.4928877674285021,0.03898093192277683,0.1470380754486367,0.08947279876234901,-0.3278903276170816,0.4442094935266518,-0.8645799259058781,-0.11407781832870367,-0.8500042071129037,-1.7635707901131836,0.11923857970219273,0.7433912272493793,-0.3377438041228631,-0.2127190167230761,-0.29308944330309045,-1.027699846595145,0.3184478249011507,0.19927694187282774,0.37994339383727244,-0.746132430290326,-0.3023854150955159,0.16190328480443544,-1.624844031730761,-1.0859171201754476,-0.7189957840735305,2.7845558473417196,-0.16918586537928104,-0.7611794806666109,0.8551326165150591,3.5008341333139543,1.3736888854712288,-0.14731413819767503,-0.19431117888150404,0.7990826137028254,1.97655179721937,-1.126681374728365,0.1587411549606443,2.1087264223925892,-0.852378962861152,0.810410323831111,-0.20431225146676082,-0.5849614797403092,-0.7412946448844422,-2.2314212764672634,-0.01668481928374612,-0.24108965121644785,1.6322911109996603,0.2080323021974596,0.1105721339022915,-1.6157597109780601,-0.4437317818044135,0.6641369811044572,-0.2720792450538761,-0.9177827023180709,0.018789312304881615,0.16190328480443544,-0.6660596055140848,1.362377128962613,-0.19475659913074944,-0.7949977919181433,0.6698279618357865,-0.04392852092376714,1.0105145672210296,-0.8590998971763835,0.41389434089564797,-0.7874719678684697,-0.4157765569562986,-0.18369922159693308,0.29137008260509695,-0.21558819734946255,0.21952520068867215,-0.4849742852498028,-0.4274172738929839,-0.24009344412041772,-0.037335770413760766,-1.0460845911418895,0.07377164085777686,-0.10863840690001128,0.5327974870027419,0.38592294006186617,0.274977036132678,-1.2965039431129242,1.399971142430791,-2.3715219309155366,-0.06865460076640015,0.01861048990838289,0.04193676235110132,-1.1689112579111016,-0.05080073233905147,1.0114509536938328,-0.08172931162146511,-0.15682225592372356,-1.7223352039769553,-1.1069309994452396,0.14246110965482098,0.3511220557478751,-0.8678600641759034,-1.6636258468858598,-1.142534286404883,-0.4629974675577994,0.0355840577444335,-0.2776837765680182,0.160783491626243,0.28364348193257916,-0.4515011104120062,1.0393440761506483,-0.6332631366055054,-0.2505423236763346,-0.3711713268908443,-0.7064672086210428,1.3392758655060486,0.6599645323170114,0.7191895828888729,-1.3708684172403813,-1.1079955697232677,-1.252678759254209,-0.28849538482112286,-0.1357933397367467,0.34028854813173054,3.3308197791129897,-1.5059108750196786,0.6894332063469801,-0.39713559052054886,-0.3308070428534312,0.3249645239389577,0.6977004184872916,-1.227018634306118,-0.12970193141403943,-0.4582796006276721,0.806671771893612,1.2009626738546773,-1.5649894551663757,1.759243068400872,0.6048172159859392,0.6294377286462831,0.0885525882752129,0.2853768474836263,-1.0088957570766712,0.531880735170186,0.2815285524493618,0.5549149834650595,-1.6653370907078695,0.13002836603622478,-0.9023088947669972,1.6002253232675303,1.9200515674830034,0.02644083307099051,-1.5376751256215635,0.8298053873215094,0.66281061964857,-0.17858645101021198,-0.09136787787553137,-0.4772407672681241,0.32407086540122965,0.13090584858828616,1.2968731056701848,-1.518190000170877,0.09140213426135223,0.13264944438162962,-0.15801274528418402,1.921427950637643,0.03715788086595903,-0.326886009280103,-0.7316456260220824,0.24796857372110745,0.07611638600203657,0.08292277618741811,0.13110316655654958,-0.8231503347345219,0.5246393006993005,0.5963736685379196,-1.2260395198982403,0.4015180141090039,0.6202635000218142,-0.48314777553840443,-0.37117883533447527,-0.007310308930331304,-0.48109943826612994,-0.28124929776386903,0.43798163606925095,-0.7747298984620515,0.7101366207604684,0.6283304304331795,-0.7644975401968234,-1.5347666757146823,0.09622968942493966,0.2678312329109335,-1.583071791234459,-0.41576829162683004,-0.022478625802680303,0.6550456663980428,-0.09143815110705178,0.26680847386549517,-1.3802081103149195,-0.9518042772812372,0.9372677672704165,-0.09609576609612958,-2.186946047057669,-0.3067576689400151,1.4674485771776047,-0.09292898366597038,-1.4106283534563209,0.5324661852073275,-0.13579934034342253,-0.6954329243820542,0.6787519691779261,-0.38932353397788094,2.5819264123035937,-0.6699125531347176,0.43510688615401166,-1.1758443381599555,-1.3754592394337657,0.28359398240978806,-0.5365364457447765,-1.7320269507743902,-0.35691012274322464,3.2678319897443893,-1.7011563587102336,0.918999482544849],\"type\":\"scatter3d\"}],                        {\"template\":{\"data\":{\"histogram2dcontour\":[{\"type\":\"histogram2dcontour\",\"colorbar\":{\"outlinewidth\":0,\"ticks\":\"\"},\"colorscale\":[[0.0,\"#0d0887\"],[0.1111111111111111,\"#46039f\"],[0.2222222222222222,\"#7201a8\"],[0.3333333333333333,\"#9c179e\"],[0.4444444444444444,\"#bd3786\"],[0.5555555555555556,\"#d8576b\"],[0.6666666666666666,\"#ed7953\"],[0.7777777777777778,\"#fb9f3a\"],[0.8888888888888888,\"#fdca26\"],[1.0,\"#f0f921\"]]}],\"choropleth\":[{\"type\":\"choropleth\",\"colorbar\":{\"outlinewidth\":0,\"ticks\":\"\"}}],\"histogram2d\":[{\"type\":\"histogram2d\",\"colorbar\":{\"outlinewidth\":0,\"ticks\":\"\"},\"colorscale\":[[0.0,\"#0d0887\"],[0.1111111111111111,\"#46039f\"],[0.2222222222222222,\"#7201a8\"],[0.3333333333333333,\"#9c179e\"],[0.4444444444444444,\"#bd3786\"],[0.5555555555555556,\"#d8576b\"],[0.6666666666666666,\"#ed7953\"],[0.7777777777777778,\"#fb9f3a\"],[0.8888888888888888,\"#fdca26\"],[1.0,\"#f0f921\"]]}],\"heatmap\":[{\"type\":\"heatmap\",\"colorbar\":{\"outlinewidth\":0,\"ticks\":\"\"},\"colorscale\":[[0.0,\"#0d0887\"],[0.1111111111111111,\"#46039f\"],[0.2222222222222222,\"#7201a8\"],[0.3333333333333333,\"#9c179e\"],[0.4444444444444444,\"#bd3786\"],[0.5555555555555556,\"#d8576b\"],[0.6666666666666666,\"#ed7953\"],[0.7777777777777778,\"#fb9f3a\"],[0.8888888888888888,\"#fdca26\"],[1.0,\"#f0f921\"]]}],\"heatmapgl\":[{\"type\":\"heatmapgl\",\"colorbar\":{\"outlinewidth\":0,\"ticks\":\"\"},\"colorscale\":[[0.0,\"#0d0887\"],[0.1111111111111111,\"#46039f\"],[0.2222222222222222,\"#7201a8\"],[0.3333333333333333,\"#9c179e\"],[0.4444444444444444,\"#bd3786\"],[0.5555555555555556,\"#d8576b\"],[0.6666666666666666,\"#ed7953\"],[0.7777777777777778,\"#fb9f3a\"],[0.8888888888888888,\"#fdca26\"],[1.0,\"#f0f921\"]]}],\"contourcarpet\":[{\"type\":\"contourcarpet\",\"colorbar\":{\"outlinewidth\":0,\"ticks\":\"\"}}],\"contour\":[{\"type\":\"contour\",\"colorbar\":{\"outlinewidth\":0,\"ticks\":\"\"},\"colorscale\":[[0.0,\"#0d0887\"],[0.1111111111111111,\"#46039f\"],[0.2222222222222222,\"#7201a8\"],[0.3333333333333333,\"#9c179e\"],[0.4444444444444444,\"#bd3786\"],[0.5555555555555556,\"#d8576b\"],[0.6666666666666666,\"#ed7953\"],[0.7777777777777778,\"#fb9f3a\"],[0.8888888888888888,\"#fdca26\"],[1.0,\"#f0f921\"]]}],\"surface\":[{\"type\":\"surface\",\"colorbar\":{\"outlinewidth\":0,\"ticks\":\"\"},\"colorscale\":[[0.0,\"#0d0887\"],[0.1111111111111111,\"#46039f\"],[0.2222222222222222,\"#7201a8\"],[0.3333333333333333,\"#9c179e\"],[0.4444444444444444,\"#bd3786\"],[0.5555555555555556,\"#d8576b\"],[0.6666666666666666,\"#ed7953\"],[0.7777777777777778,\"#fb9f3a\"],[0.8888888888888888,\"#fdca26\"],[1.0,\"#f0f921\"]]}],\"mesh3d\":[{\"type\":\"mesh3d\",\"colorbar\":{\"outlinewidth\":0,\"ticks\":\"\"}}],\"scatter\":[{\"fillpattern\":{\"fillmode\":\"overlay\",\"size\":10,\"solidity\":0.2},\"type\":\"scatter\"}],\"parcoords\":[{\"type\":\"parcoords\",\"line\":{\"colorbar\":{\"outlinewidth\":0,\"ticks\":\"\"}}}],\"scatterpolargl\":[{\"type\":\"scatterpolargl\",\"marker\":{\"colorbar\":{\"outlinewidth\":0,\"ticks\":\"\"}}}],\"bar\":[{\"error_x\":{\"color\":\"#2a3f5f\"},\"error_y\":{\"color\":\"#2a3f5f\"},\"marker\":{\"line\":{\"color\":\"#E5ECF6\",\"width\":0.5},\"pattern\":{\"fillmode\":\"overlay\",\"size\":10,\"solidity\":0.2}},\"type\":\"bar\"}],\"scattergeo\":[{\"type\":\"scattergeo\",\"marker\":{\"colorbar\":{\"outlinewidth\":0,\"ticks\":\"\"}}}],\"scatterpolar\":[{\"type\":\"scatterpolar\",\"marker\":{\"colorbar\":{\"outlinewidth\":0,\"ticks\":\"\"}}}],\"histogram\":[{\"marker\":{\"pattern\":{\"fillmode\":\"overlay\",\"size\":10,\"solidity\":0.2}},\"type\":\"histogram\"}],\"scattergl\":[{\"type\":\"scattergl\",\"marker\":{\"colorbar\":{\"outlinewidth\":0,\"ticks\":\"\"}}}],\"scatter3d\":[{\"type\":\"scatter3d\",\"line\":{\"colorbar\":{\"outlinewidth\":0,\"ticks\":\"\"}},\"marker\":{\"colorbar\":{\"outlinewidth\":0,\"ticks\":\"\"}}}],\"scattermapbox\":[{\"type\":\"scattermapbox\",\"marker\":{\"colorbar\":{\"outlinewidth\":0,\"ticks\":\"\"}}}],\"scatterternary\":[{\"type\":\"scatterternary\",\"marker\":{\"colorbar\":{\"outlinewidth\":0,\"ticks\":\"\"}}}],\"scattercarpet\":[{\"type\":\"scattercarpet\",\"marker\":{\"colorbar\":{\"outlinewidth\":0,\"ticks\":\"\"}}}],\"carpet\":[{\"aaxis\":{\"endlinecolor\":\"#2a3f5f\",\"gridcolor\":\"white\",\"linecolor\":\"white\",\"minorgridcolor\":\"white\",\"startlinecolor\":\"#2a3f5f\"},\"baxis\":{\"endlinecolor\":\"#2a3f5f\",\"gridcolor\":\"white\",\"linecolor\":\"white\",\"minorgridcolor\":\"white\",\"startlinecolor\":\"#2a3f5f\"},\"type\":\"carpet\"}],\"table\":[{\"cells\":{\"fill\":{\"color\":\"#EBF0F8\"},\"line\":{\"color\":\"white\"}},\"header\":{\"fill\":{\"color\":\"#C8D4E3\"},\"line\":{\"color\":\"white\"}},\"type\":\"table\"}],\"barpolar\":[{\"marker\":{\"line\":{\"color\":\"#E5ECF6\",\"width\":0.5},\"pattern\":{\"fillmode\":\"overlay\",\"size\":10,\"solidity\":0.2}},\"type\":\"barpolar\"}],\"pie\":[{\"automargin\":true,\"type\":\"pie\"}]},\"layout\":{\"autotypenumbers\":\"strict\",\"colorway\":[\"#636efa\",\"#EF553B\",\"#00cc96\",\"#ab63fa\",\"#FFA15A\",\"#19d3f3\",\"#FF6692\",\"#B6E880\",\"#FF97FF\",\"#FECB52\"],\"font\":{\"color\":\"#2a3f5f\"},\"hovermode\":\"closest\",\"hoverlabel\":{\"align\":\"left\"},\"paper_bgcolor\":\"white\",\"plot_bgcolor\":\"#E5ECF6\",\"polar\":{\"bgcolor\":\"#E5ECF6\",\"angularaxis\":{\"gridcolor\":\"white\",\"linecolor\":\"white\",\"ticks\":\"\"},\"radialaxis\":{\"gridcolor\":\"white\",\"linecolor\":\"white\",\"ticks\":\"\"}},\"ternary\":{\"bgcolor\":\"#E5ECF6\",\"aaxis\":{\"gridcolor\":\"white\",\"linecolor\":\"white\",\"ticks\":\"\"},\"baxis\":{\"gridcolor\":\"white\",\"linecolor\":\"white\",\"ticks\":\"\"},\"caxis\":{\"gridcolor\":\"white\",\"linecolor\":\"white\",\"ticks\":\"\"}},\"coloraxis\":{\"colorbar\":{\"outlinewidth\":0,\"ticks\":\"\"}},\"colorscale\":{\"sequential\":[[0.0,\"#0d0887\"],[0.1111111111111111,\"#46039f\"],[0.2222222222222222,\"#7201a8\"],[0.3333333333333333,\"#9c179e\"],[0.4444444444444444,\"#bd3786\"],[0.5555555555555556,\"#d8576b\"],[0.6666666666666666,\"#ed7953\"],[0.7777777777777778,\"#fb9f3a\"],[0.8888888888888888,\"#fdca26\"],[1.0,\"#f0f921\"]],\"sequentialminus\":[[0.0,\"#0d0887\"],[0.1111111111111111,\"#46039f\"],[0.2222222222222222,\"#7201a8\"],[0.3333333333333333,\"#9c179e\"],[0.4444444444444444,\"#bd3786\"],[0.5555555555555556,\"#d8576b\"],[0.6666666666666666,\"#ed7953\"],[0.7777777777777778,\"#fb9f3a\"],[0.8888888888888888,\"#fdca26\"],[1.0,\"#f0f921\"]],\"diverging\":[[0,\"#8e0152\"],[0.1,\"#c51b7d\"],[0.2,\"#de77ae\"],[0.3,\"#f1b6da\"],[0.4,\"#fde0ef\"],[0.5,\"#f7f7f7\"],[0.6,\"#e6f5d0\"],[0.7,\"#b8e186\"],[0.8,\"#7fbc41\"],[0.9,\"#4d9221\"],[1,\"#276419\"]]},\"xaxis\":{\"gridcolor\":\"white\",\"linecolor\":\"white\",\"ticks\":\"\",\"title\":{\"standoff\":15},\"zerolinecolor\":\"white\",\"automargin\":true,\"zerolinewidth\":2},\"yaxis\":{\"gridcolor\":\"white\",\"linecolor\":\"white\",\"ticks\":\"\",\"title\":{\"standoff\":15},\"zerolinecolor\":\"white\",\"automargin\":true,\"zerolinewidth\":2},\"scene\":{\"xaxis\":{\"backgroundcolor\":\"#E5ECF6\",\"gridcolor\":\"white\",\"linecolor\":\"white\",\"showbackground\":true,\"ticks\":\"\",\"zerolinecolor\":\"white\",\"gridwidth\":2},\"yaxis\":{\"backgroundcolor\":\"#E5ECF6\",\"gridcolor\":\"white\",\"linecolor\":\"white\",\"showbackground\":true,\"ticks\":\"\",\"zerolinecolor\":\"white\",\"gridwidth\":2},\"zaxis\":{\"backgroundcolor\":\"#E5ECF6\",\"gridcolor\":\"white\",\"linecolor\":\"white\",\"showbackground\":true,\"ticks\":\"\",\"zerolinecolor\":\"white\",\"gridwidth\":2}},\"shapedefaults\":{\"line\":{\"color\":\"#2a3f5f\"}},\"annotationdefaults\":{\"arrowcolor\":\"#2a3f5f\",\"arrowhead\":0,\"arrowwidth\":1},\"geo\":{\"bgcolor\":\"white\",\"landcolor\":\"#E5ECF6\",\"subunitcolor\":\"white\",\"showland\":true,\"showlakes\":true,\"lakecolor\":\"white\"},\"title\":{\"x\":0.05},\"mapbox\":{\"style\":\"light\"}}}},                        {\"responsive\": true}                    ).then(function(){\n",
       "                            \n",
       "var gd = document.getElementById('aff29485-61a6-4b7f-b472-d68f35cac71d');\n",
       "var x = new MutationObserver(function (mutations, observer) {{\n",
       "        var display = window.getComputedStyle(gd).display;\n",
       "        if (!display || display === 'none') {{\n",
       "            console.log([gd, 'removed!']);\n",
       "            Plotly.purge(gd);\n",
       "            observer.disconnect();\n",
       "        }}\n",
       "}});\n",
       "\n",
       "// Listen for the removal of the full notebook cells\n",
       "var notebookContainer = gd.closest('#notebook-container');\n",
       "if (notebookContainer) {{\n",
       "    x.observe(notebookContainer, {childList: true});\n",
       "}}\n",
       "\n",
       "// Listen for the clearing of the current output cell\n",
       "var outputEl = gd.closest('.output');\n",
       "if (outputEl) {{\n",
       "    x.observe(outputEl, {childList: true});\n",
       "}}\n",
       "\n",
       "                        })                };                });            </script>        </div>"
      ]
     },
     "metadata": {},
     "output_type": "display_data"
    }
   ],
   "source": [
    "import plotly.graph_objects as go\n",
    "\n",
    "\n",
    "fig = go.Figure(\n",
    "    go.Scatter3d(mode='markers',\n",
    "                 x = pca_df[:, 0],\n",
    "                 y = pca_df[:, 1],\n",
    "                 z = pca_df[:, 2],\n",
    "                 marker=dict(size = 5, color = df['cluster'], colorscale = 'spectral')\n",
    "                )\n",
    ")\n",
    "    \n",
    "fig.show()"
   ]
  },
  {
   "cell_type": "code",
   "execution_count": 43,
   "id": "7d052822",
   "metadata": {},
   "outputs": [
    {
     "data": {
      "text/plain": [
       "3    100\n",
       "0     80\n",
       "2     56\n",
       "4     37\n",
       "1     26\n",
       "Name: cluster, dtype: int64"
      ]
     },
     "execution_count": 43,
     "metadata": {},
     "output_type": "execute_result"
    }
   ],
   "source": [
    "# size of each cluster\n",
    "\n",
    "df[\"cluster\"].value_counts()"
   ]
  },
  {
   "cell_type": "code",
   "execution_count": 44,
   "id": "6f7e0b9c",
   "metadata": {},
   "outputs": [
    {
     "data": {
      "text/plain": [
       "<seaborn.axisgrid.PairGrid at 0xb4f82f8>"
      ]
     },
     "execution_count": 44,
     "metadata": {},
     "output_type": "execute_result"
    },
    {
     "data": {
      "image/png": "[encoded data removed]",
      "text/plain": [
       "<Figure size 582.375x540 with 12 Axes>"
      ]
     },
     "metadata": {
      "needs_background": "light"
     },
     "output_type": "display_data"
    }
   ],
   "source": [
    "# numerical data exploration\n",
    "g = sns.PairGrid(df[[\"age\", \"serum_sodium\", \"platelets\", \"cluster\"]], hue = \"cluster\", palette = 'Spectral')\n",
    "g.map_diag(sns.histplot)\n",
    "g.map_offdiag(sns.scatterplot)\n",
    "g.add_legend()"
   ]
  },
  {
   "cell_type": "code",
   "execution_count": 45,
   "id": "1de80992",
   "metadata": {},
   "outputs": [
    {
     "data": {
      "image/png": "[encoded data removed]",
      "text/plain": [
       "<Figure size 432x288 with 1 Axes>"
      ]
     },
     "metadata": {
      "needs_background": "light"
     },
     "output_type": "display_data"
    }
   ],
   "source": [
    "ax = sns.countplot(data = df, x=\"smoking\", hue = \"cluster\", palette = 'Spectral' )"
   ]
  },
  {
   "cell_type": "code",
   "execution_count": 46,
   "id": "b6e37eaf",
   "metadata": {},
   "outputs": [
    {
     "data": {
      "image/png": "[encoded data removed]",
      "text/plain": [
       "<Figure size 432x288 with 1 Axes>"
      ]
     },
     "metadata": {
      "needs_background": "light"
     },
     "output_type": "display_data"
    }
   ],
   "source": [
    "ax = sns.countplot(data = df, x=\"sex\", hue = \"cluster\", palette = 'Spectral' )"
   ]
  },
  {
   "cell_type": "markdown",
   "id": "003fbdab",
   "metadata": {},
   "source": [
    "##### Cluster Statistics"
   ]
  },
  {
   "cell_type": "code",
   "execution_count": 47,
   "id": "d1193ed0",
   "metadata": {},
   "outputs": [
    {
     "data": {
      "text/html": [
       "<div>\n",
       "<style scoped>\n",
       "    .dataframe tbody tr th:only-of-type {\n",
       "        vertical-align: middle;\n",
       "    }\n",
       "\n",
       "    .dataframe tbody tr th {\n",
       "        vertical-align: top;\n",
       "    }\n",
       "\n",
       "    .dataframe thead th {\n",
       "        text-align: right;\n",
       "    }\n",
       "</style>\n",
       "<table border=\"1\" class=\"dataframe\">\n",
       "  <thead>\n",
       "    <tr style=\"text-align: right;\">\n",
       "      <th></th>\n",
       "      <th>age</th>\n",
       "      <th>sex</th>\n",
       "      <th>serum_sodium</th>\n",
       "      <th>platelets</th>\n",
       "      <th>smoking</th>\n",
       "      <th>cluster</th>\n",
       "    </tr>\n",
       "  </thead>\n",
       "  <tbody>\n",
       "    <tr>\n",
       "      <th>count</th>\n",
       "      <td>56.000000</td>\n",
       "      <td>56.000000</td>\n",
       "      <td>56.000000</td>\n",
       "      <td>56.000000</td>\n",
       "      <td>56.000000</td>\n",
       "      <td>56.0</td>\n",
       "    </tr>\n",
       "    <tr>\n",
       "      <th>mean</th>\n",
       "      <td>65.535714</td>\n",
       "      <td>0.428571</td>\n",
       "      <td>141.553571</td>\n",
       "      <td>246056.680179</td>\n",
       "      <td>0.214286</td>\n",
       "      <td>2.0</td>\n",
       "    </tr>\n",
       "    <tr>\n",
       "      <th>std</th>\n",
       "      <td>7.198394</td>\n",
       "      <td>0.499350</td>\n",
       "      <td>2.522046</td>\n",
       "      <td>68026.269486</td>\n",
       "      <td>0.414039</td>\n",
       "      <td>0.0</td>\n",
       "    </tr>\n",
       "    <tr>\n",
       "      <th>min</th>\n",
       "      <td>53.000000</td>\n",
       "      <td>0.000000</td>\n",
       "      <td>137.000000</td>\n",
       "      <td>25100.000000</td>\n",
       "      <td>0.000000</td>\n",
       "      <td>2.0</td>\n",
       "    </tr>\n",
       "    <tr>\n",
       "      <th>25%</th>\n",
       "      <td>60.000000</td>\n",
       "      <td>0.000000</td>\n",
       "      <td>140.000000</td>\n",
       "      <td>200750.000000</td>\n",
       "      <td>0.000000</td>\n",
       "      <td>2.0</td>\n",
       "    </tr>\n",
       "    <tr>\n",
       "      <th>50%</th>\n",
       "      <td>65.000000</td>\n",
       "      <td>0.000000</td>\n",
       "      <td>141.000000</td>\n",
       "      <td>250500.000000</td>\n",
       "      <td>0.000000</td>\n",
       "      <td>2.0</td>\n",
       "    </tr>\n",
       "    <tr>\n",
       "      <th>75%</th>\n",
       "      <td>70.000000</td>\n",
       "      <td>1.000000</td>\n",
       "      <td>144.000000</td>\n",
       "      <td>294250.000000</td>\n",
       "      <td>0.000000</td>\n",
       "      <td>2.0</td>\n",
       "    </tr>\n",
       "    <tr>\n",
       "      <th>max</th>\n",
       "      <td>90.000000</td>\n",
       "      <td>1.000000</td>\n",
       "      <td>148.000000</td>\n",
       "      <td>390000.000000</td>\n",
       "      <td>1.000000</td>\n",
       "      <td>2.0</td>\n",
       "    </tr>\n",
       "  </tbody>\n",
       "</table>\n",
       "</div>"
      ],
      "text/plain": [
       "             age        sex  serum_sodium      platelets    smoking  cluster\n",
       "count  56.000000  56.000000     56.000000      56.000000  56.000000     56.0\n",
       "mean   65.535714   0.428571    141.553571  246056.680179   0.214286      2.0\n",
       "std     7.198394   0.499350      2.522046   68026.269486   0.414039      0.0\n",
       "min    53.000000   0.000000    137.000000   25100.000000   0.000000      2.0\n",
       "25%    60.000000   0.000000    140.000000  200750.000000   0.000000      2.0\n",
       "50%    65.000000   0.000000    141.000000  250500.000000   0.000000      2.0\n",
       "75%    70.000000   1.000000    144.000000  294250.000000   0.000000      2.0\n",
       "max    90.000000   1.000000    148.000000  390000.000000   1.000000      2.0"
      ]
     },
     "execution_count": 47,
     "metadata": {},
     "output_type": "execute_result"
    }
   ],
   "source": [
    "df[df[\"cluster\"] == 2].describe()"
   ]
  }
 ],
 "metadata": {
  "kernelspec": {
   "display_name": "Python 3 (ipykernel)",
   "language": "python",
   "name": "python3"
  },
  "language_info": {
   "codemirror_mode": {
    "name": "ipython",
    "version": 3
   },
   "file_extension": ".py",
   "mimetype": "text/x-python",
   "name": "python",
   "nbconvert_exporter": "python",
   "pygments_lexer": "ipython3",
   "version": "3.9.7"
  }
 },
 "nbformat": 4,
 "nbformat_minor": 5
}
